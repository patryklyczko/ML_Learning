{
  "nbformat": 4,
  "nbformat_minor": 0,
  "metadata": {
    "colab": {
      "provenance": []
    },
    "kernelspec": {
      "name": "python3",
      "display_name": "Python 3"
    },
    "language_info": {
      "name": "python"
    },
    "accelerator": "GPU"
  },
  "cells": [
    {
      "cell_type": "code",
      "execution_count": null,
      "metadata": {
        "id": "2A8-A0XRbE1V"
      },
      "outputs": [],
      "source": [
        "import tensorflow as tf\n",
        "import numpy as np\n",
        "import matplotlib.pyplot as plt"
      ]
    },
    {
      "cell_type": "code",
      "source": [
        "## get data\n",
        "!wget https://storage.googleapis.com/ztm_tf_course/food_vision/pizza_steak.zip"
      ],
      "metadata": {
        "colab": {
          "base_uri": "https://localhost:8080/"
        },
        "id": "zZ7bZNmDdnyD",
        "outputId": "232b4b9a-5a75-48e0-abf4-82cc2110c0d6"
      },
      "execution_count": null,
      "outputs": [
        {
          "output_type": "stream",
          "name": "stdout",
          "text": [
            "--2022-10-30 09:08:47--  https://storage.googleapis.com/ztm_tf_course/food_vision/pizza_steak.zip\n",
            "Resolving storage.googleapis.com (storage.googleapis.com)... 108.177.119.128, 108.177.126.128, 108.177.127.128, ...\n",
            "Connecting to storage.googleapis.com (storage.googleapis.com)|108.177.119.128|:443... connected.\n",
            "HTTP request sent, awaiting response... 200 OK\n",
            "Length: 109540975 (104M) [application/zip]\n",
            "Saving to: ‘pizza_steak.zip’\n",
            "\n",
            "pizza_steak.zip     100%[===================>] 104.47M  79.5MB/s    in 1.3s    \n",
            "\n",
            "2022-10-30 09:08:48 (79.5 MB/s) - ‘pizza_steak.zip’ saved [109540975/109540975]\n",
            "\n"
          ]
        }
      ]
    },
    {
      "cell_type": "code",
      "source": [
        "import zipfile\n",
        "## Unzip the download file\n",
        "zip_ref = zipfile.ZipFile(\"pizza_steak.zip\")\n",
        "zip_ref.extractall()\n",
        "zip_ref.close()"
      ],
      "metadata": {
        "id": "fxodGTVMegnE"
      },
      "execution_count": null,
      "outputs": []
    },
    {
      "cell_type": "code",
      "source": [
        "## Inspect the datsa\n",
        "import os\n",
        "\n",
        "for dirpath, dirnames, filenames in os.walk(\"pizza_steak\"):\n",
        "  print(f\"There are {len(dirnames)} directories and {len(filenames)} in '{dirpath}'\")\n",
        "  "
      ],
      "metadata": {
        "colab": {
          "base_uri": "https://localhost:8080/"
        },
        "id": "7dbUsk47fkK9",
        "outputId": "320ec87b-1a20-4dfe-fa76-6863a53ae305"
      },
      "execution_count": null,
      "outputs": [
        {
          "output_type": "stream",
          "name": "stdout",
          "text": [
            "There are 2 directories and 0 in 'pizza_steak'\n",
            "There are 2 directories and 0 in 'pizza_steak/train'\n",
            "There are 0 directories and 750 in 'pizza_steak/train/pizza'\n",
            "There are 0 directories and 750 in 'pizza_steak/train/steak'\n",
            "There are 2 directories and 0 in 'pizza_steak/test'\n",
            "There are 0 directories and 250 in 'pizza_steak/test/pizza'\n",
            "There are 0 directories and 250 in 'pizza_steak/test/steak'\n"
          ]
        }
      ]
    },
    {
      "cell_type": "code",
      "source": [
        "# Get the classnames programmaticalyy\n",
        "import pathlib\n",
        "\n",
        "data_dir = pathlib.Path(\"pizza_steak/train\")\n",
        "# Created a list of class_names from the subdirector\n",
        "class_names = np.array(sorted([item.name for item in data_dir.glob(\"*\")])) \n",
        "print(class_names)"
      ],
      "metadata": {
        "colab": {
          "base_uri": "https://localhost:8080/"
        },
        "id": "JWeScPlDg1WE",
        "outputId": "1b2294b1-9900-4f2b-a8e3-6c361683bdb0"
      },
      "execution_count": null,
      "outputs": [
        {
          "output_type": "stream",
          "name": "stdout",
          "text": [
            "['pizza' 'steak']\n"
          ]
        }
      ]
    },
    {
      "cell_type": "code",
      "source": [
        "## Let's visualize our images\n",
        "import matplotlib.image as mping\n",
        "import random\n",
        "\n",
        "def view_random_image(target_dir, target_class):\n",
        "  ## Setup the target directory\n",
        "  target_folder = target_dir +\"/\" + target_class\n",
        "\n",
        "  ## Get a random path\n",
        "  random_image = random.sample(os.listdir(target_folder),1)\n",
        "\n",
        "  ## Read in the image\n",
        "  image = mping.imread(target_folder + \"/\" + random_image[0])\n",
        "  plt.imshow(image)\n",
        "  plt.title(target_class)\n",
        "  plt.axis(\"off\")\n",
        "\n",
        "  print(f\"Image shape: {image.shape}\")"
      ],
      "metadata": {
        "id": "YxPWCjfCh0pr"
      },
      "execution_count": null,
      "outputs": []
    },
    {
      "cell_type": "code",
      "source": [
        "view_random_image(\"pizza_steak/train\", \"pizza\")"
      ],
      "metadata": {
        "colab": {
          "base_uri": "https://localhost:8080/",
          "height": 281
        },
        "id": "FXgHLtHHis-e",
        "outputId": "7e2c2ea0-2968-47cc-8e2c-29e7f61da6be"
      },
      "execution_count": null,
      "outputs": [
        {
          "output_type": "stream",
          "name": "stdout",
          "text": [
            "Image shape: (512, 512, 3)\n"
          ]
        },
        {
          "output_type": "display_data",
          "data": {
            "text/plain": [
              "<Figure size 432x288 with 1 Axes>"
            ],
            "image/png": "[encoded data removed]"
          },
          "metadata": {
            "needs_background": "light"
          }
        }
      ]
    },
    {
      "cell_type": "markdown",
      "source": [
        "## An end-to-end example\n",
        "#### Lets build a convolutionl neural network to find patterns in our images\n",
        "\n",
        "**Load out images** <br>\n",
        "**Preprocess our images** <br>\n",
        "**Build a CNN to find patterns in our images** <br>\n",
        "**Compile our CNN** <br>\n",
        "**Fit the CNN to our training data** "
      ],
      "metadata": {
        "id": "bwWBF22AqjBd"
      }
    },
    {
      "cell_type": "code",
      "source": [
        "from tensorflow.keras.preprocessing.image import ImageDataGenerator\n",
        "\n",
        "#set the seed \n",
        "tf.random.set_seed(42)\n",
        "\n",
        "## Preprocessing data, normalization\n",
        "train_datagen = ImageDataGenerator(rescale=1./255)\n",
        "valid_datagen = ImageDataGenerator(rescale=1./255)\n",
        "\n",
        "# Setup paths to our data directories\n",
        "train_dir = \"/content/pizza_steak/train\"\n",
        "test_dir = \"/content/pizza_steak/test\"\n",
        "\n",
        "## Import data from directories and turn it into batches\n",
        "train_data = train_datagen.flow_from_directory(directory=train_dir,\n",
        "                                               batch_size=32,\n",
        "                                               target_size=(224,224),\n",
        "                                               class_mode=\"binary\",\n",
        "                                               seed=42)\n",
        "valid_data = valid_datagen.flow_from_directory(directory=test_dir,\n",
        "                                               batch_size=32,\n",
        "                                               target_size=(224,224),\n",
        "                                               class_mode=\"binary\",\n",
        "                                               seed=42)\n",
        "\n"
      ],
      "metadata": {
        "colab": {
          "base_uri": "https://localhost:8080/"
        },
        "id": "B0XCK6Wcq9V-",
        "outputId": "688be80b-4be0-4d63-b0d3-91e94250b276"
      },
      "execution_count": null,
      "outputs": [
        {
          "output_type": "stream",
          "name": "stdout",
          "text": [
            "Found 1500 images belonging to 2 classes.\n",
            "Found 500 images belonging to 2 classes.\n"
          ]
        }
      ]
    },
    {
      "cell_type": "code",
      "source": [
        "## Build a CNN model\n",
        "\n",
        "model = tf.keras.Sequential([\n",
        "    tf.keras.layers.Conv2D(filters=10,\n",
        "                           kernel_size=3,\n",
        "                           activation=\"relu\",\n",
        "                           input_shape=(224,224,3)),\n",
        "    tf.keras.layers.Conv2D(10, 3, activation=\"relu\"),\n",
        "    tf.keras.layers.MaxPool2D(pool_size=2,\n",
        "                              padding=\"valid\"),\n",
        "    tf.keras.layers.Conv2D(10, 3, activation=\"relu\"),\n",
        "    tf.keras.layers.Conv2D(10, 3, activation=\"relu\"),\n",
        "    tf.keras.layers.MaxPool2D(2),\n",
        "    tf.keras.layers.Flatten(),\n",
        "    tf.keras.layers.Dense(1, activation=\"sigmoid\")\n",
        "])\n",
        "\n",
        "model.compile(loss=tf.keras.losses.binary_crossentropy,\n",
        "              optimizer=tf.keras.optimizers.Adam(),\n",
        "              metrics=[\"accuracy\"])\n",
        "\n",
        "model.fit(train_data,\n",
        "          epochs=5, \n",
        "          steps_per_epoch=len(train_data),\n",
        "          validation_data=valid_data,\n",
        "          validation_steps=len(valid_data))"
      ],
      "metadata": {
        "colab": {
          "base_uri": "https://localhost:8080/"
        },
        "id": "bTRZZE0VswDW",
        "outputId": "40dc6358-b535-43d5-a07d-9d83dbcd71eb"
      },
      "execution_count": null,
      "outputs": [
        {
          "output_type": "stream",
          "name": "stdout",
          "text": [
            "Epoch 1/5\n",
            "41/47 [=========================>....] - ETA: 0s - loss: 0.6048 - accuracy: 0.6631"
          ]
        }
      ]
    },
    {
      "cell_type": "code",
      "source": [
        "model.summary()"
      ],
      "metadata": {
        "id": "lbZfBd2cwJQv"
      },
      "execution_count": null,
      "outputs": []
    },
    {
      "cell_type": "markdown",
      "source": [
        "#### Binary classification: break down\n",
        "\n"
      ],
      "metadata": {
        "id": "Yxfhk61Nv6Bf"
      }
    },
    {
      "cell_type": "code",
      "source": [
        "## 1. Become one with the data\n",
        "\n",
        "plt.figure(figsize=(10,7))\n",
        "plt.subplot(1,2,1)\n",
        "steak_img = view_random_image(\"pizza_steak/train\", \"steak\")\n",
        "plt.subplot(1,2,2)\n",
        "pizza_img = view_random_image(\"pizza_steak/train\", \"pizza\")\n"
      ],
      "metadata": {
        "id": "XnghNt4DvCyO"
      },
      "execution_count": null,
      "outputs": []
    },
    {
      "cell_type": "code",
      "source": [
        "### 2. Preprocess the data\n",
        "\n",
        "train_dir = \"pizza_steak/train\"\n",
        "test_dir = \"pizza_steak/test\""
      ],
      "metadata": {
        "id": "mI-gbhybw5S8"
      },
      "execution_count": null,
      "outputs": []
    },
    {
      "cell_type": "code",
      "source": [
        "# Turn our data into batches\n",
        "## Create train and test data generators and rescale the data\n",
        "from tensorflow.keras.preprocessing.image import ImageDataGenerator\n",
        "train_datagen = ImageDataGenerator(rescale=1/255.)\n",
        "test_datagen = ImageDataGenerator(rescale=1/255.)"
      ],
      "metadata": {
        "id": "MFmnPCpSTIPL"
      },
      "execution_count": null,
      "outputs": []
    },
    {
      "cell_type": "code",
      "source": [
        "## Load our data \n",
        "train_data = train_datagen.flow_from_directory(directory=train_dir,\n",
        "                                            target_size=(224,224),\n",
        "                                            class_mode=\"binary\",\n",
        "                                            batch_size=32)\n",
        "\n",
        "test_data = test_datagen.flow_from_directory(directory=test_dir,\n",
        "                                            target_size=(224,224),\n",
        "                                            class_mode=\"binary\",\n",
        "                                            batch_size=32)"
      ],
      "metadata": {
        "id": "71ECz9VWVH9E"
      },
      "execution_count": null,
      "outputs": []
    },
    {
      "cell_type": "code",
      "source": [
        "## Get a sample of a train data batch\n",
        "images, labels = train_data.next()\n",
        "## How many batches\n",
        "len(train_data)"
      ],
      "metadata": {
        "id": "tcX3kKJHW0H0"
      },
      "execution_count": null,
      "outputs": []
    },
    {
      "cell_type": "code",
      "source": [
        "#Get the first two images\n",
        "plt.imshow(images[0])\n",
        "print(labels[0])"
      ],
      "metadata": {
        "id": "VyycYFU2XKrE"
      },
      "execution_count": null,
      "outputs": []
    },
    {
      "cell_type": "code",
      "source": [
        "plt.imshow(images[7])\n",
        "print(labels[7])"
      ],
      "metadata": {
        "id": "OZR0eEoLXupU"
      },
      "execution_count": null,
      "outputs": []
    },
    {
      "cell_type": "code",
      "source": [
        "import tensorflow as tf\n"
      ],
      "metadata": {
        "id": "_heyfDD4dr8u"
      },
      "execution_count": null,
      "outputs": []
    },
    {
      "cell_type": "code",
      "source": [
        "## Create a model\n",
        "\n",
        "model4 = tf.keras.Sequential([\n",
        "    tf.keras.layers.Conv2D(filters=10,\n",
        "           kernel_size=3,\n",
        "           strides=1,\n",
        "           padding=\"valid\",\n",
        "           activation=\"relu\",\n",
        "           input_shape=(224,224,3)),\n",
        "    tf.keras.layers.Conv2D(10,3,activation=\"relu\"),\n",
        "    tf.keras.layers.Conv2D(10,3,activation=\"relu\"),\n",
        "    tf.keras.layers.Flatten(),\n",
        "    tf.keras.layers.Dense(1,activation=\"sigmoid\") \n",
        "])\n",
        "\n",
        "model4.compile(loss=\"binary_crossentropy\",\n",
        "              optimizer=tf.keras.optimizers.Adam(lr=0.001),\n",
        "              metrics=[\"accuracy\"])\n"
      ],
      "metadata": {
        "id": "kPSwQWd8X3VE"
      },
      "execution_count": null,
      "outputs": []
    },
    {
      "cell_type": "code",
      "source": [
        "## Fit the model\n",
        "history4 = model4.fit(train_data,\n",
        "                      epochs=5,\n",
        "                      steps_per_epoch=len(train_data),\n",
        "                      validation_data=test_data,\n",
        "                      validation_steps=len(test_data))"
      ],
      "metadata": {
        "id": "6gM_lc3Kgg-x"
      },
      "execution_count": null,
      "outputs": []
    },
    {
      "cell_type": "code",
      "source": [
        "from IPython.core.magics import history\n",
        "## Evaluating our model\n",
        "import pandas as pd\n",
        "pd.DataFrame(history4.history).plot(figsize=(10,7))"
      ],
      "metadata": {
        "id": "QrbiSBb_iWlL"
      },
      "execution_count": null,
      "outputs": []
    },
    {
      "cell_type": "code",
      "source": [
        "##Plot the validation and training curves seperately\n",
        "def plot_loss_curves(his):\n",
        "  loss = his.history[\"loss\"]\n",
        "  val_loss = his.history[\"val_loss\"]\n",
        "\n",
        "\n",
        "  accuracy = his.history[\"accuracy\"]\n",
        "  val_accuracy = his.history[\"val_accuracy\"]\n",
        "\n",
        "  epochs = range(len(his.history[\"loss\"]))\n",
        "\n",
        "  ## Plot loss\n",
        "  plt.plot(epochs, loss, label=\"training loss\")\n",
        "  plt.plot(epochs, val_loss, label=\"val_loss\")\n",
        "  plt.title(\"loss\")\n",
        "  plt.xlabel(\"epochs\")\n",
        "  plt.legend()\n",
        "  plt.show()\n",
        "\n",
        "\n",
        "  ## Plot accuracy\n",
        "  plt.plot(epochs, accuracy, label=\"training accuracy\")\n",
        "  plt.plot(epochs, val_accuracy, label=\"val_accuracy\")\n",
        "  plt.title(\"accuracy\")\n",
        "  plt.xlabel(\"epochs\")\n",
        "  plt.legend()\n",
        "  plt.show()"
      ],
      "metadata": {
        "id": "unTX-rLDl00A"
      },
      "execution_count": null,
      "outputs": []
    },
    {
      "cell_type": "code",
      "source": [
        "plot_loss_curves(history4)"
      ],
      "metadata": {
        "id": "yV-GaxaEnIRo"
      },
      "execution_count": null,
      "outputs": []
    },
    {
      "cell_type": "markdown",
      "source": [
        "### Fitting the model parameters\n",
        "#### Ways to induce overfitting:\n",
        "- Increase the number of conv layers\n",
        "- Increase the number of conv filters\n",
        "- Add another dense layer to the output of our flattened layer\n"
      ],
      "metadata": {
        "id": "n2YVPWCpGxdp"
      }
    },
    {
      "cell_type": "code",
      "source": [
        "#  Model\n",
        "tf.random.set_seed(42)\n",
        "model5 = tf.keras.Sequential([\n",
        "    tf.keras.layers.Conv2D(20,3,activation=\"relu\", input_shape=(224,224,3)),\n",
        "    tf.keras.layers.MaxPool2D(pool_size=2),\n",
        "    tf.keras.layers.Conv2D(10,3,activation=\"relu\"),\n",
        "    tf.keras.layers.MaxPool2D(),\n",
        "    tf.keras.layers.Conv2D(10,3,activation=\"relu\"),\n",
        "    tf.keras.layers.MaxPool2D(),\n",
        "    tf.keras.layers.Flatten(),\n",
        "    tf.keras.layers.Dense(1, activation=\"sigmoid\")\n",
        "])"
      ],
      "metadata": {
        "id": "wHiZ6NnJGdv9"
      },
      "execution_count": null,
      "outputs": []
    },
    {
      "cell_type": "code",
      "source": [
        "## Compile model\n",
        "model5.compile(loss=\"binary_crossentropy\",\n",
        "              optimizer=tf.keras.optimizers.Adam(lr=0.001),\n",
        "              metrics=[\"accuracy\"])\n",
        "\n",
        "## Fit the model\n",
        "history5 = model5.fit(train_data,\n",
        "                      epochs=10,\n",
        "                      steps_per_epoch=len(train_data),\n",
        "                      validation_data=test_data,\n",
        "                      validation_steps=len(test_data))"
      ],
      "metadata": {
        "id": "xWdgtgYFINEx"
      },
      "execution_count": null,
      "outputs": []
    },
    {
      "cell_type": "code",
      "source": [
        "plot_loss_curves(history5)"
      ],
      "metadata": {
        "id": "o66RHsxbIoB8"
      },
      "execution_count": null,
      "outputs": []
    },
    {
      "cell_type": "code",
      "source": [
        "model5.summary()"
      ],
      "metadata": {
        "id": "MTmU5yZZJ0IC"
      },
      "execution_count": null,
      "outputs": []
    },
    {
      "cell_type": "code",
      "source": [
        "## Data augmentation\n",
        "\n",
        "train_datagen_augmented = ImageDataGenerator(rescale=1/255.,\n",
        "                                             rotation_range = 0.3,\n",
        "                                             zoom_range=0.1,\n",
        "                                             horizontal_flip=True)\n",
        "\n",
        "## Create ImageDataGenerator\n",
        "train_datagen = ImageDataGenerator(rescale=1/255.)\n",
        "\n",
        "test_datagen = ImageDataGenerator(rescale=1/255.)"
      ],
      "metadata": {
        "id": "_oPQ5KMfKt0z"
      },
      "execution_count": null,
      "outputs": []
    },
    {
      "cell_type": "code",
      "source": [
        "train_data_aug = train_datagen_augmented.flow_from_directory(directory=train_dir,\n",
        "                                            target_size=(224,224),\n",
        "                                            class_mode=\"binary\",\n",
        "                                            batch_size=32,\n",
        "                                            shuffle=True)\n",
        "\n",
        "train_data = train_datagen.flow_from_directory(directory=train_dir,\n",
        "                                            target_size=(224,224),\n",
        "                                            class_mode=\"binary\",\n",
        "                                            batch_size=32,\n",
        "                                            shuffle=False)\n",
        "\n",
        "\n",
        "test_data = test_datagen.flow_from_directory(directory=test_dir,\n",
        "                                            target_size=(224,224),\n",
        "                                            class_mode=\"binary\",\n",
        "                                            batch_size=32)"
      ],
      "metadata": {
        "id": "8ST8M64_L2B9"
      },
      "execution_count": null,
      "outputs": []
    },
    {
      "cell_type": "code",
      "source": [
        "images, labels = train_data_aug.next()"
      ],
      "metadata": {
        "id": "PE13Qf7EMVir"
      },
      "execution_count": null,
      "outputs": []
    },
    {
      "cell_type": "code",
      "source": [
        "plt.imshow(images[23])"
      ],
      "metadata": {
        "id": "dIG1fEMpMjYb"
      },
      "execution_count": null,
      "outputs": []
    },
    {
      "cell_type": "code",
      "source": [
        "#  Model\n",
        "tf.random.set_seed(42)\n",
        "model_aug = tf.keras.Sequential([\n",
        "    tf.keras.layers.Conv2D(10,5,activation=\"relu\", input_shape=(224,224,3)),\n",
        "    tf.keras.layers.MaxPool2D(pool_size=2),\n",
        "    tf.keras.layers.Conv2D(10,3,activation=\"relu\"),\n",
        "    tf.keras.layers.MaxPool2D(),\n",
        "    tf.keras.layers.Conv2D(10,3,activation=\"relu\"),\n",
        "    tf.keras.layers.MaxPool2D(),\n",
        "    tf.keras.layers.Conv2D(10,3,activation=\"relu\"),\n",
        "    tf.keras.layers.MaxPool2D(),\n",
        "    tf.keras.layers.Flatten(),\n",
        "    tf.keras.layers.Dense(1, activation=\"sigmoid\")\n",
        "])\n",
        "\n",
        "## Compile model\n",
        "model_aug.compile(loss=\"binary_crossentropy\",\n",
        "              optimizer=tf.keras.optimizers.Adam(lr=0.001),\n",
        "              metrics=[\"accuracy\"])\n",
        "\n",
        "## Fit the model\n",
        "history_aug = model_aug.fit(train_data_aug,\n",
        "                      epochs=10,\n",
        "                      steps_per_epoch=len(train_data_aug),\n",
        "                      validation_data=test_data,\n",
        "                      validation_steps=len(test_data))"
      ],
      "metadata": {
        "id": "aT43JEdoNcEc"
      },
      "execution_count": null,
      "outputs": []
    },
    {
      "cell_type": "code",
      "source": [
        "plot_loss_curves(history_aug)"
      ],
      "metadata": {
        "id": "gxa32l5RNrCU"
      },
      "execution_count": null,
      "outputs": []
    },
    {
      "cell_type": "markdown",
      "source": [
        "### Multi-class image classification\n",
        "\n",
        "1. Become one with the data\n",
        "2. Preprocess the data\n",
        "3. Create a model (base)\n",
        "4. Fit the model (overfit it)\n",
        "5. Evaluate the model\n",
        "6. Adjust different hyperparametrs\n",
        "7. Repeat until satisfied"
      ],
      "metadata": {
        "id": "fOclz8DcT4bb"
      }
    },
    {
      "cell_type": "code",
      "source": [
        "## 1. Become one with the data\n",
        "\n",
        "import zipfile\n",
        "\n",
        "!wget https://storage.googleapis.com/ztm_tf_course/food_vision/10_food_classes_all_data.zip\n",
        "\n",
        "# Unzip data\n",
        "zip_ref = zipfile.ZipFile(\"10_food_classes_all_data.zip\", \"r\")\n",
        "zip_ref.extractall()\n",
        "zip_ref.close()"
      ],
      "metadata": {
        "id": "PhibXoAWT9ZE"
      },
      "execution_count": null,
      "outputs": []
    },
    {
      "cell_type": "code",
      "source": [
        "import os\n",
        "\n",
        "# Walk through 10 classes of food image data\n",
        "\n",
        "for dirpath, dirnames, filenames in os.walk(\"10_food_classes_all_data\"):\n",
        "  print(f\"There are {len(dirnames)} directories and {len(filenames)} images in '{dirpath}'\")"
      ],
      "metadata": {
        "id": "8J8jCDwTVWv8"
      },
      "execution_count": null,
      "outputs": []
    },
    {
      "cell_type": "code",
      "source": [
        "## Setup the train and test directories\n",
        "\n",
        "train_dir = \"10_food_classes_all_data/train/\"\n",
        "test_dir = \"10_food_classes_all_data/test/\""
      ],
      "metadata": {
        "id": "vBYoSKNbWJ_T"
      },
      "execution_count": null,
      "outputs": []
    },
    {
      "cell_type": "code",
      "source": [
        "import pathlib\n",
        "import numpy as np\n",
        "data_dir = pathlib.Path(train_dir)\n",
        "class_names = np.array(sorted([item.name for item in data_dir.glob('*')]))\n",
        "print(class_names)"
      ],
      "metadata": {
        "id": "_JXC83MmWWDt"
      },
      "execution_count": null,
      "outputs": []
    },
    {
      "cell_type": "code",
      "source": [
        "import random\n",
        "img = view_random_image(target_dir=train_dir,\n",
        "                        target_class=random.choice(class_names))"
      ],
      "metadata": {
        "id": "57mNBpQYWzQr"
      },
      "execution_count": null,
      "outputs": []
    },
    {
      "cell_type": "code",
      "source": [
        "## Preprocess the data\n",
        "from tensorflow.keras.preprocessing.image import ImageDataGenerator\n",
        "train_datagen = ImageDataGenerator(rescale=1/255.)\n",
        "test_datagen = ImageDataGenerator(rescale=1/255.)\n",
        "\n",
        "## Load our data \n",
        "train_data = train_datagen.flow_from_directory(directory=train_dir,\n",
        "                                            target_size=(224,224),\n",
        "                                            class_mode=\"categorical\",\n",
        "                                            batch_size=32)\n",
        "\n",
        "test_data = test_datagen.flow_from_directory(directory=test_dir,\n",
        "                                            target_size=(224,224),\n",
        "                                            class_mode=\"categorical\",\n",
        "                                            batch_size=32)"
      ],
      "metadata": {
        "id": "Z1YGVvDpXmZT"
      },
      "execution_count": null,
      "outputs": []
    },
    {
      "cell_type": "code",
      "source": [
        "## Create a model\n",
        "\n",
        "model_multi = tf.keras.Sequential([\n",
        "    tf.keras.layers.Conv2D(filters=10,\n",
        "           kernel_size=3,\n",
        "           strides=1,\n",
        "           padding=\"valid\",\n",
        "           activation=\"relu\",\n",
        "           input_shape=(224,224,3)),\n",
        "    tf.keras.layers.Conv2D(10,3,activation=\"relu\"),\n",
        "    tf.keras.layers.Conv2D(10,3,activation=\"relu\"),\n",
        "    tf.keras.layers.MaxPool2D(),\n",
        "    tf.keras.layers.Flatten(),\n",
        "    tf.keras.layers.Dense(10,activation=\"softmax\") \n",
        "])\n",
        "\n",
        "model_multi.compile(loss=\"categorical_crossentropy\",\n",
        "              optimizer=tf.keras.optimizers.Adam(lr=0.001),\n",
        "              metrics=[\"accuracy\"])"
      ],
      "metadata": {
        "id": "1-MlqDxqYqL8"
      },
      "execution_count": null,
      "outputs": []
    },
    {
      "cell_type": "code",
      "source": [
        "## Fit the model\n",
        "history4 = model_multi.fit(train_data,\n",
        "                      epochs=5,\n",
        "                      steps_per_epoch=len(train_data),\n",
        "                      validation_data=test_data,\n",
        "                      validation_steps=len(test_data))"
      ],
      "metadata": {
        "id": "MoeN158pYxLe"
      },
      "execution_count": null,
      "outputs": []
    },
    {
      "cell_type": "code",
      "source": [
        "plot_loss_curves(history4)"
      ],
      "metadata": {
        "id": "w8v9gc8fa4ek"
      },
      "execution_count": null,
      "outputs": []
    },
    {
      "cell_type": "code",
      "source": [
        "## Remove layers to decrease overfitting\n",
        "\n",
        "model_multi_simple = tf.keras.Sequential([\n",
        "    tf.keras.layers.Conv2D(filters=10,\n",
        "           kernel_size=3,\n",
        "           strides=1,\n",
        "           padding=\"valid\",\n",
        "           activation=\"relu\",\n",
        "           input_shape=(224,224,3)),\n",
        "    tf.keras.layers.MaxPool2D(),\n",
        "    \n",
        "    tf.keras.layers.Flatten(),\n",
        "    tf.keras.layers.Dense(10,activation=\"softmax\")\n",
        "])\n",
        "\n",
        "model_multi_simple.compile(loss=\"categorical_crossentropy\",\n",
        "                          optimizer=tf.keras.optimizers.Adam(lr=0.001),\n",
        "                           metrics=[\"accuracy\"])"
      ],
      "metadata": {
        "id": "vdnI7DsucgYo"
      },
      "execution_count": null,
      "outputs": []
    },
    {
      "cell_type": "code",
      "source": [
        "## Fit the model\n",
        "history_multi_simple = model_multi_simple.fit(train_data,\n",
        "                      epochs=5,\n",
        "                      steps_per_epoch=len(train_data),\n",
        "                      validation_data=test_data,\n",
        "                      validation_steps=len(test_data))"
      ],
      "metadata": {
        "id": "ew5-BPOfdKNE"
      },
      "execution_count": null,
      "outputs": []
    },
    {
      "cell_type": "code",
      "source": [
        "model_multi_simple.summary()"
      ],
      "metadata": {
        "id": "Nr7mKqtzfF3d"
      },
      "execution_count": null,
      "outputs": []
    },
    {
      "cell_type": "code",
      "source": [
        "plot_loss_curves(history_multi_simple)"
      ],
      "metadata": {
        "id": "9OGuDJ-odPrE"
      },
      "execution_count": null,
      "outputs": []
    },
    {
      "cell_type": "code",
      "source": [
        "train_datagen_augmented = ImageDataGenerator(rescale=1/255.,\n",
        "                                             rotation_range = 0.3,\n",
        "                                             zoom_range=0.1,\n",
        "                                             horizontal_flip=True)"
      ],
      "metadata": {
        "id": "bGbKtbkzgXxe"
      },
      "execution_count": null,
      "outputs": []
    },
    {
      "cell_type": "code",
      "source": [
        "train_data_aug = train_datagen_augmented.flow_from_directory(directory=train_dir,\n",
        "                                            target_size=(224,224),\n",
        "                                            class_mode=\"categorical\",\n",
        "                                            batch_size=32,\n",
        "                                            shuffle=True)\n",
        "\n",
        "test_data = test_datagen.flow_from_directory(directory=test_dir,\n",
        "                                            target_size=(224,224),\n",
        "                                            class_mode=\"categorical\",\n",
        "                                            batch_size=32)"
      ],
      "metadata": {
        "id": "z-q4dGQ7fZed"
      },
      "execution_count": null,
      "outputs": []
    },
    {
      "cell_type": "code",
      "source": [
        "model_multi_aug = tf.keras.Sequential([\n",
        "    tf.keras.layers.Conv2D(filters=10,\n",
        "           kernel_size=3,\n",
        "           strides=1,\n",
        "           padding=\"valid\",\n",
        "           activation=\"relu\",\n",
        "           input_shape=(224,224,3)),\n",
        "    tf.keras.layers.MaxPool2D(),\n",
        "    tf.keras.layers.Conv2D(10,3),\n",
        "    tf.keras.layers.MaxPool2D(),\n",
        "    tf.keras.layers.Conv2D(10,3),\n",
        "    tf.keras.layers.MaxPool2D(),\n",
        "    tf.keras.layers.Flatten(),\n",
        "    tf.keras.layers.Dense(10,activation=\"softmax\")\n",
        "])\n",
        "\n",
        "model_multi_aug.compile(loss=\"categorical_crossentropy\",\n",
        "                          optimizer=tf.keras.optimizers.Adam(lr=0.001),\n",
        "                           metrics=[\"accuracy\"])"
      ],
      "metadata": {
        "id": "ZkAQPUPdfrWs"
      },
      "execution_count": null,
      "outputs": []
    },
    {
      "cell_type": "code",
      "source": [
        "## Fit the model\n",
        "history_multi_aug = model_multi_aug.fit(train_data_aug,\n",
        "                      epochs=5,\n",
        "                      steps_per_epoch=int( 0.7* len(train_data_aug)),\n",
        "                      validation_data=test_data,\n",
        "                      validation_steps=int(0.5 *len(test_data)))"
      ],
      "metadata": {
        "id": "ZPCsDpOmf8O_"
      },
      "execution_count": null,
      "outputs": []
    },
    {
      "cell_type": "code",
      "source": [
        "plot_loss_curves(history_multi_aug)"
      ],
      "metadata": {
        "id": "8Lu5x8i2kmXU"
      },
      "execution_count": null,
      "outputs": []
    },
    {
      "cell_type": "code",
      "source": [
        "model_multi_aug.summary()"
      ],
      "metadata": {
        "id": "XHYsA58RkwLO"
      },
      "execution_count": null,
      "outputs": []
    }
  ]
}