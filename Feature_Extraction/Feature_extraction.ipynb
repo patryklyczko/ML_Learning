{
  "nbformat": 4,
  "nbformat_minor": 0,
  "metadata": {
    "colab": {
      "provenance": []
    },
    "kernelspec": {
      "name": "python3",
      "display_name": "Python 3"
    },
    "language_info": {
      "name": "python"
    },
    "accelerator": "GPU"
  },
  "cells": [
    {
      "cell_type": "code",
      "execution_count": null,
      "metadata": {
        "id": "S83qDSCQ5PXs"
      },
      "outputs": [],
      "source": [
        "import tensorflow as tf"
      ]
    },
    {
      "cell_type": "markdown",
      "source": [
        "- We can leverage an existing neural network architecture proven to work on problems similar to our own\n",
        "\n",
        "- Can leverage a working network architecture which has already learned patterns on similar data to our own"
      ],
      "metadata": {
        "id": "-p8S5Flb8rd7"
      }
    },
    {
      "cell_type": "markdown",
      "source": [
        "## What we're going to cover:\n",
        "\n",
        "- introduce transfer learning with TensorFlow,\n",
        "- Using a small dataset to experiment faster\n",
        "- Building a transfer learning feature extraction model with TensorFlow Hub\n",
        "- Use TensorBoard to track modelling experiments and results"
      ],
      "metadata": {
        "id": "UUi0-4R_9XF0"
      }
    },
    {
      "cell_type": "code",
      "source": [
        "import os\n",
        "import zipfile\n",
        "\n",
        "!wget https://storage.googleapis.com/ztm_tf_course/food_vision/10_food_classes_10_percent.zip\n",
        "\n",
        "zip_ref = zipfile.ZipFile(\"10_food_classes_10_percent.zip\")\n",
        "zip_ref.extractall()\n",
        "zip_ref.close()"
      ],
      "metadata": {
        "colab": {
          "base_uri": "https://localhost:8080/"
        },
        "id": "wU6lC4mh7lBZ",
        "outputId": "278c802d-f4a3-4d80-e9a2-0e05df5da389"
      },
      "execution_count": null,
      "outputs": [
        {
          "output_type": "stream",
          "name": "stdout",
          "text": [
            "--2022-10-30 09:35:20--  https://storage.googleapis.com/ztm_tf_course/food_vision/10_food_classes_10_percent.zip\n",
            "Resolving storage.googleapis.com (storage.googleapis.com)... 142.251.10.128, 142.251.12.128, 74.125.200.128, ...\n",
            "Connecting to storage.googleapis.com (storage.googleapis.com)|142.251.10.128|:443... connected.\n",
            "HTTP request sent, awaiting response... 200 OK\n",
            "Length: 168546183 (161M) [application/zip]\n",
            "Saving to: ‘10_food_classes_10_percent.zip.1’\n",
            "\n",
            "10_food_classes_10_ 100%[===================>] 160.74M   330MB/s    in 0.5s    \n",
            "\n",
            "2022-10-30 09:35:20 (330 MB/s) - ‘10_food_classes_10_percent.zip.1’ saved [168546183/168546183]\n",
            "\n"
          ]
        }
      ]
    },
    {
      "cell_type": "code",
      "source": [
        "\n",
        "for dirpaths, dirnames, filenames in os.walk(\"10_food_classes_10_percent\"):\n",
        "  print(f\"There are {len(dirnames)} directories and {len(filenames)} image in '{dirpaths}'\")"
      ],
      "metadata": {
        "colab": {
          "base_uri": "https://localhost:8080/"
        },
        "id": "Mm4FzHD7-9lF",
        "outputId": "59981616-8cff-45a8-e558-bb5b7b601005"
      },
      "execution_count": null,
      "outputs": [
        {
          "output_type": "stream",
          "name": "stdout",
          "text": [
            "There are 2 directories and 0 image in '10_food_classes_10_percent'\n",
            "There are 10 directories and 0 image in '10_food_classes_10_percent/train'\n",
            "There are 0 directories and 75 image in '10_food_classes_10_percent/train/fried_rice'\n",
            "There are 0 directories and 75 image in '10_food_classes_10_percent/train/chicken_curry'\n",
            "There are 0 directories and 75 image in '10_food_classes_10_percent/train/ice_cream'\n",
            "There are 0 directories and 75 image in '10_food_classes_10_percent/train/chicken_wings'\n",
            "There are 0 directories and 75 image in '10_food_classes_10_percent/train/sushi'\n",
            "There are 0 directories and 75 image in '10_food_classes_10_percent/train/grilled_salmon'\n",
            "There are 0 directories and 75 image in '10_food_classes_10_percent/train/ramen'\n",
            "There are 0 directories and 75 image in '10_food_classes_10_percent/train/pizza'\n",
            "There are 0 directories and 75 image in '10_food_classes_10_percent/train/hamburger'\n",
            "There are 0 directories and 75 image in '10_food_classes_10_percent/train/steak'\n",
            "There are 10 directories and 0 image in '10_food_classes_10_percent/test'\n",
            "There are 0 directories and 250 image in '10_food_classes_10_percent/test/fried_rice'\n",
            "There are 0 directories and 250 image in '10_food_classes_10_percent/test/chicken_curry'\n",
            "There are 0 directories and 250 image in '10_food_classes_10_percent/test/ice_cream'\n",
            "There are 0 directories and 250 image in '10_food_classes_10_percent/test/chicken_wings'\n",
            "There are 0 directories and 250 image in '10_food_classes_10_percent/test/sushi'\n",
            "There are 0 directories and 250 image in '10_food_classes_10_percent/test/grilled_salmon'\n",
            "There are 0 directories and 250 image in '10_food_classes_10_percent/test/ramen'\n",
            "There are 0 directories and 250 image in '10_food_classes_10_percent/test/pizza'\n",
            "There are 0 directories and 250 image in '10_food_classes_10_percent/test/hamburger'\n",
            "There are 0 directories and 250 image in '10_food_classes_10_percent/test/steak'\n"
          ]
        }
      ]
    },
    {
      "cell_type": "code",
      "source": [
        "from tensorflow.keras.preprocessing.image import ImageDataGenerator\n",
        "\n",
        "Image_shape = (224,224)\n",
        "Batch_size = 32\n",
        "\n",
        "train_dir = \"10_food_classes_10_percent/train/\"\n",
        "test_dir = \"10_food_classes_10_percent/test/\"\n",
        "\n",
        "train_datagen = ImageDataGenerator(rescale=1/255.)\n",
        "test_datagen = ImageDataGenerator(rescale=1/255.)\n",
        "\n",
        "train_data = train_datagen.flow_from_directory(train_dir, \n",
        "                                               target_size=Image_shape,\n",
        "                                               batch_size=Batch_size,\n",
        "                                               class_mode=\"categorical\")\n",
        "\n",
        "test_data = test_datagen.flow_from_directory(test_dir, \n",
        "                                               target_size=Image_shape,\n",
        "                                               batch_size=Batch_size,\n",
        "                                               class_mode=\"categorical\")"
      ],
      "metadata": {
        "colab": {
          "base_uri": "https://localhost:8080/"
        },
        "id": "_U1F9gLq_Xz7",
        "outputId": "f4b02a40-4aaf-4203-d5fa-8f10a0f14221"
      },
      "execution_count": null,
      "outputs": [
        {
          "output_type": "stream",
          "name": "stdout",
          "text": [
            "Found 750 images belonging to 10 classes.\n",
            "Found 2500 images belonging to 10 classes.\n"
          ]
        }
      ]
    },
    {
      "cell_type": "markdown",
      "source": [
        "### Setting up callbacks (things to run whilst our model trains or after)\n",
        "\n",
        "- Tracking experiments with the Tensorboard callback,\n",
        "- Model checkpoint with the ModelCheckpoint callback\n",
        "- Stopping a model from training (overfitting) with the EarlyStopping callback\n"
      ],
      "metadata": {
        "id": "ToxwHRiEA4-S"
      }
    },
    {
      "cell_type": "code",
      "source": [
        "## Create a tensorflow callback \n",
        "import datetime\n",
        "\n",
        "def create_tensorflow_callback(dir_name, experiment_name):\n",
        "  log_dir = dir_name + \"/\" + experiment_name + \"/\" + datetime.datetime.now().strftime(\"%Y%m%d-&H&M%s\")\n",
        "  tensorboard_callback = tf.keras.callbacks.TensorBoard(log_dir=log_dir)\n",
        "  print(f\"Saving TensroBoard log files to: {log_dir}\")\n",
        "  return tensorboard_callback\n"
      ],
      "metadata": {
        "id": "u6x9-y8NAcUc"
      },
      "execution_count": null,
      "outputs": []
    },
    {
      "cell_type": "code",
      "source": [
        "# Resnet 50 V2 feature vector\n",
        "resnet_url = \"https://tfhub.dev/google/imagenet/resnet_v2_50/feature_vector/4\"\n",
        "\n",
        "# Original: EfficientNetB0 feature vector (version 1)\n",
        "efficientnet_url = \"https://tfhub.dev/tensorflow/efficientnet/b0/feature-vector/1\"\n",
        "\n"
      ],
      "metadata": {
        "id": "Yrz-O153D86q"
      },
      "execution_count": null,
      "outputs": []
    },
    {
      "cell_type": "code",
      "source": [
        "import tensorflow as tf\n",
        "import tensorflow_hub as hub"
      ],
      "metadata": {
        "id": "516Fi7kZtvxs"
      },
      "execution_count": null,
      "outputs": []
    },
    {
      "cell_type": "code",
      "source": [
        "def create_model(model_url, num_classes=10):\n",
        "  feature_extractor_layer = hub.KerasLayer(model_url, trainable=False,\n",
        "                                           input_shape=Image_shape+(3,))\n",
        "  \n",
        "  model = tf.keras.Sequential([\n",
        "      feature_extractor_layer,\n",
        "      tf.keras.layers.Dense(10,activation=\"softmax\")\n",
        "  ])\n",
        "\n",
        "  return model\n",
        "  "
      ],
      "metadata": {
        "id": "S0V9j7iSuLpC"
      },
      "execution_count": null,
      "outputs": []
    },
    {
      "cell_type": "code",
      "source": [
        "model_resnet = create_model(resnet_url)\n",
        "model_enet = create_model(efficientnet_url)"
      ],
      "metadata": {
        "id": "eJP2sMnqvjPb"
      },
      "execution_count": null,
      "outputs": []
    },
    {
      "cell_type": "code",
      "source": [
        "model_resnet.summary()"
      ],
      "metadata": {
        "colab": {
          "base_uri": "https://localhost:8080/"
        },
        "id": "hbb27WSPv8QU",
        "outputId": "4515f9c2-7b5d-40c5-cf11-5360a99b7f33"
      },
      "execution_count": null,
      "outputs": [
        {
          "output_type": "stream",
          "name": "stdout",
          "text": [
            "Model: \"sequential_5\"\n",
            "_________________________________________________________________\n",
            " Layer (type)                Output Shape              Param #   \n",
            "=================================================================\n",
            " keras_layer_5 (KerasLayer)  (None, 2048)              23564800  \n",
            "                                                                 \n",
            " dense_5 (Dense)             (None, 10)                20490     \n",
            "                                                                 \n",
            "=================================================================\n",
            "Total params: 23,585,290\n",
            "Trainable params: 20,490\n",
            "Non-trainable params: 23,564,800\n",
            "_________________________________________________________________\n"
          ]
        }
      ]
    },
    {
      "cell_type": "code",
      "source": [
        "#Compile \n",
        "model_resnet.compile(loss=\"categorical_crossentropy\",\n",
        "                     optimizer=tf.keras.optimizers.Adam(),\n",
        "                     metrics=[\"accuracy\"])"
      ],
      "metadata": {
        "id": "Im4q5f9_wPod"
      },
      "execution_count": null,
      "outputs": []
    },
    {
      "cell_type": "code",
      "source": [
        "his_resnet = model_resnet.fit(train_data,\n",
        "                steps_per_epoch = len(train_data),\n",
        "                validation_data=test_data,\n",
        "                validation_steps = len(test_data),\n",
        "                epochs=5,\n",
        "                callbacks=[create_tensorflow_callback(dir_name=\"tensorflow_hub\",\n",
        "                                                       experiment_name=\"resnet50V2\",\n",
        "                                                       )])"
      ],
      "metadata": {
        "colab": {
          "base_uri": "https://localhost:8080/"
        },
        "id": "ozn-Ibf9wiXk",
        "outputId": "5ced0309-fb54-4a08-b5ca-df6072ed16eb"
      },
      "execution_count": null,
      "outputs": [
        {
          "output_type": "stream",
          "name": "stdout",
          "text": [
            "Saving TensroBoard log files to: tensorflow_hub/resnet50V2/20221030-&H&M1667122535\n",
            "Epoch 1/5\n",
            "24/24 [==============================] - 20s 724ms/step - loss: 1.9763 - accuracy: 0.3573 - val_loss: 1.1786 - val_accuracy: 0.6248\n",
            "Epoch 2/5\n",
            "24/24 [==============================] - 17s 728ms/step - loss: 0.9149 - accuracy: 0.7333 - val_loss: 0.8397 - val_accuracy: 0.7396\n",
            "Epoch 3/5\n",
            "24/24 [==============================] - 16s 700ms/step - loss: 0.6368 - accuracy: 0.8227 - val_loss: 0.7320 - val_accuracy: 0.7648\n",
            "Epoch 4/5\n",
            "24/24 [==============================] - 17s 716ms/step - loss: 0.4862 - accuracy: 0.8693 - val_loss: 0.6971 - val_accuracy: 0.7744\n",
            "Epoch 5/5\n",
            "24/24 [==============================] - 16s 702ms/step - loss: 0.3932 - accuracy: 0.9053 - val_loss: 0.6645 - val_accuracy: 0.7828\n"
          ]
        }
      ]
    },
    {
      "cell_type": "code",
      "source": [
        "import matplotlib.pyplot as plt\n",
        "def plot_loss_curves(his):\n",
        "  loss = his.history[\"loss\"]\n",
        "  val_loss = his.history[\"val_loss\"]\n",
        "\n",
        "\n",
        "  accuracy = his.history[\"accuracy\"]\n",
        "  val_accuracy = his.history[\"val_accuracy\"]\n",
        "\n",
        "  epochs = range(len(his.history[\"loss\"]))\n",
        "\n",
        "  ## Plot loss\n",
        "  plt.plot(epochs, loss, label=\"training loss\")\n",
        "  plt.plot(epochs, val_loss, label=\"val_loss\")\n",
        "  plt.title(\"loss\")\n",
        "  plt.xlabel(\"epochs\")\n",
        "  plt.legend()\n",
        "  plt.show()\n",
        "\n",
        "\n",
        "  ## Plot accuracy\n",
        "  plt.plot(epochs, accuracy, label=\"training accuracy\")\n",
        "  plt.plot(epochs, val_accuracy, label=\"val_accuracy\")\n",
        "  plt.title(\"accuracy\")\n",
        "  plt.xlabel(\"epochs\")\n",
        "  plt.legend()\n",
        "  plt.show()"
      ],
      "metadata": {
        "id": "u5OQTOl_Ms6j"
      },
      "execution_count": null,
      "outputs": []
    },
    {
      "cell_type": "code",
      "source": [
        "plot_loss_curves(his_resnet)"
      ],
      "metadata": {
        "colab": {
          "base_uri": "https://localhost:8080/",
          "height": 573
        },
        "id": "FLw5mJxTM2k0",
        "outputId": "b78cd850-ec02-4700-f267-77098e2a483e"
      },
      "execution_count": null,
      "outputs": [
        {
          "output_type": "display_data",
          "data": {
            "text/plain": [
              "<Figure size 432x288 with 1 Axes>"
            ],
            "image/png": "[encoded data removed]"
          },
          "metadata": {
            "needs_background": "light"
          }
        },
        {
          "output_type": "display_data",
          "data": {
            "text/plain": [
              "<Figure size 432x288 with 1 Axes>"
            ],
            "image/png": "[encoded data removed]"
          },
          "metadata": {
            "needs_background": "light"
          }
        }
      ]
    },
    {
      "cell_type": "code",
      "source": [
        "## EfficientNet\n",
        "efficient_model = create_model(model_url=efficientnet_url)\n",
        "\n",
        "## Compile\n",
        "efficient_model.compile(loss=\"categorical_crossentropy\",\n",
        "                            optimizer=tf.keras.optimizers.Adam(),\n",
        "                            metrics=[\"accuracy\"])\n",
        "\n",
        "eff_history = efficient_model.fit(train_data,\n",
        "                                  epochs=5,\n",
        "                                  steps_per_epoch=len(train_data),\n",
        "                                  validation_data=train_data,\n",
        "                                  validation_steps=len(train_data),\n",
        "                                  callbacks=[create_tensorflow_callback(dir_name=\"tensorflow_hub\",\n",
        "                                                       experiment_name=\"efficientnetb0\",\n",
        "                                                       )])"
      ],
      "metadata": {
        "colab": {
          "base_uri": "https://localhost:8080/"
        },
        "id": "K0lqZWacN1BD",
        "outputId": "9f7711a9-546a-461e-cb94-20c749b000b8"
      },
      "execution_count": null,
      "outputs": [
        {
          "output_type": "stream",
          "name": "stdout",
          "text": [
            "Saving TensroBoard log files to: tensorflow_hub/efficientnetb0/20221030-&H&M1667122636\n",
            "Epoch 1/5\n",
            "24/24 [==============================] - 16s 346ms/step - loss: 1.8133 - accuracy: 0.4600 - val_loss: 1.2791 - val_accuracy: 0.7427\n",
            "Epoch 2/5\n",
            "24/24 [==============================] - 7s 306ms/step - loss: 1.0444 - accuracy: 0.7760 - val_loss: 0.8290 - val_accuracy: 0.8253\n",
            "Epoch 3/5\n",
            "24/24 [==============================] - 7s 302ms/step - loss: 0.7467 - accuracy: 0.8427 - val_loss: 0.6408 - val_accuracy: 0.8693\n",
            "Epoch 4/5\n",
            "24/24 [==============================] - 7s 303ms/step - loss: 0.6021 - accuracy: 0.8680 - val_loss: 0.5327 - val_accuracy: 0.8880\n",
            "Epoch 5/5\n",
            "24/24 [==============================] - 7s 298ms/step - loss: 0.5110 - accuracy: 0.8880 - val_loss: 0.4569 - val_accuracy: 0.9013\n"
          ]
        }
      ]
    },
    {
      "cell_type": "code",
      "source": [
        "plot_loss_curves(eff_history)"
      ],
      "metadata": {
        "colab": {
          "base_uri": "https://localhost:8080/",
          "height": 573
        },
        "id": "lVntx_xEQioy",
        "outputId": "636b00c8-757d-4e9c-cce1-92f0a077e5f5"
      },
      "execution_count": null,
      "outputs": [
        {
          "output_type": "display_data",
          "data": {
            "text/plain": [
              "<Figure size 432x288 with 1 Axes>"
            ],
            "image/png": "[encoded data removed]"
          },
          "metadata": {
            "needs_background": "light"
          }
        },
        {
          "output_type": "display_data",
          "data": {
            "text/plain": [
              "<Figure size 432x288 with 1 Axes>"
            ],
            "image/png": "[encoded data removed]"
          },
          "metadata": {
            "needs_background": "light"
          }
        }
      ]
    }
  ]
}