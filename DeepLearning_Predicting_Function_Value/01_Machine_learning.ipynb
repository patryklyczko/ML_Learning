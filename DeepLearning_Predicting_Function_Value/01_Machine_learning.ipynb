{
  "nbformat": 4,
  "nbformat_minor": 0,
  "metadata": {
    "colab": {
      "provenance": []
    },
    "kernelspec": {
      "name": "python3",
      "display_name": "Python 3"
    },
    "language_info": {
      "name": "python"
    },
    "accelerator": "GPU"
  },
  "cells": [
    {
      "cell_type": "code",
      "execution_count": null,
      "metadata": {
        "id": "yUQhY0cZhude"
      },
      "outputs": [],
      "source": [
        "import tensorflow as tf\n",
        "import numpy as np\n",
        "import matplotlib.pyplot as plt\n"
      ]
    },
    {
      "cell_type": "code",
      "source": [
        "## Predicting a numerical variable based on some other combination of variables\n",
        "## predicting a number\n",
        "\n",
        "## Create data to view and fit\n",
        "x = np.linspace(0,30,100)\n",
        "y = x + 5 \n",
        "plt.scatter(x,y)"
      ],
      "metadata": {
        "id": "PYqJoh5oicPw",
        "colab": {
          "base_uri": "https://localhost:8080/",
          "height": 282
        },
        "outputId": "2ad5746b-1d9a-4bb5-c153-640317b3855b"
      },
      "execution_count": null,
      "outputs": [
        {
          "output_type": "execute_result",
          "data": {
            "text/plain": [
              "<matplotlib.collections.PathCollection at 0x7f6bd199b6d0>"
            ]
          },
          "metadata": {},
          "execution_count": 2
        },
        {
          "output_type": "display_data",
          "data": {
            "text/plain": [
              "<Figure size 432x288 with 1 Axes>"
            ],
            "image/png": "[encoded data removed]"
          },
          "metadata": {
            "needs_background": "light"
          }
        }
      ]
    },
    {
      "cell_type": "code",
      "source": [
        "## Turn NumPy array into tensors\n",
        "\n",
        "X = tf.constant(x)\n",
        "Y = tf.constant(y)\n"
      ],
      "metadata": {
        "id": "J7bomh2UicJz"
      },
      "execution_count": null,
      "outputs": []
    },
    {
      "cell_type": "code",
      "source": [
        "plt.scatter(X,Y)"
      ],
      "metadata": {
        "id": "mLE1Etmxib8T",
        "colab": {
          "base_uri": "https://localhost:8080/",
          "height": 282
        },
        "outputId": "93c0adfc-ea68-4fe5-99cf-46fc197904ab"
      },
      "execution_count": null,
      "outputs": [
        {
          "output_type": "execute_result",
          "data": {
            "text/plain": [
              "<matplotlib.collections.PathCollection at 0x7f6bd192f650>"
            ]
          },
          "metadata": {},
          "execution_count": 4
        },
        {
          "output_type": "display_data",
          "data": {
            "text/plain": [
              "<Figure size 432x288 with 1 Axes>"
            ],
            "image/png": "[encoded data removed]"
          },
          "metadata": {
            "needs_background": "light"
          }
        }
      ]
    },
    {
      "cell_type": "markdown",
      "source": [
        "## Steps in modeling with TensorFlow\n",
        "\n",
        "### 1. Creating a model - define the input and output layers, as well as the hidden layers of a deep learning model\n",
        "### 2. Compile a model - loss function, optimizer, evaluation metrics\n",
        "### 3. Fitting a model\n"
      ],
      "metadata": {
        "id": "0j4BTiRadFWk"
      }
    },
    {
      "cell_type": "code",
      "source": [
        "# Set random seed\n",
        "tf.random.set_seed(42)\n",
        "\n",
        "# 1.Create a model using the Sequential API\n",
        "model = tf.keras.Sequential([\n",
        "                      tf.keras.layers.Dense(1)     \n",
        "])\n",
        "\n",
        "# 2. Compile\n",
        "\n",
        "model.compile(loss=tf.keras.losses.mae, optimizer=tf.keras.optimizers.SGD(),metrics=['mae'])\n",
        "\n",
        "# 3. Fit the model\n",
        "model.fit(tf.expand_dims(X,axis=-1),Y,epochs=20)"
      ],
      "metadata": {
        "colab": {
          "base_uri": "https://localhost:8080/"
        },
        "id": "4qzDgXoicl60",
        "outputId": "47200c4d-0287-4518-aeb3-fe288d1681d3"
      },
      "execution_count": null,
      "outputs": [
        {
          "output_type": "stream",
          "name": "stdout",
          "text": [
            "Epoch 1/20\n",
            "4/4 [==============================] - 1s 5ms/step - loss: 8.9894 - mae: 8.9894\n",
            "Epoch 2/20\n",
            "4/4 [==============================] - 0s 3ms/step - loss: 2.1843 - mae: 2.1843\n",
            "Epoch 3/20\n",
            "4/4 [==============================] - 0s 3ms/step - loss: 2.2853 - mae: 2.2853\n",
            "Epoch 4/20\n",
            "4/4 [==============================] - 0s 3ms/step - loss: 2.0752 - mae: 2.0752\n",
            "Epoch 5/20\n",
            "4/4 [==============================] - 0s 3ms/step - loss: 2.0691 - mae: 2.0691\n",
            "Epoch 6/20\n",
            "4/4 [==============================] - 0s 6ms/step - loss: 2.3465 - mae: 2.3465\n",
            "Epoch 7/20\n",
            "4/4 [==============================] - 0s 3ms/step - loss: 2.0928 - mae: 2.0928\n",
            "Epoch 8/20\n",
            "4/4 [==============================] - 0s 3ms/step - loss: 2.0350 - mae: 2.0350\n",
            "Epoch 9/20\n",
            "4/4 [==============================] - 0s 3ms/step - loss: 2.0540 - mae: 2.0540\n",
            "Epoch 10/20\n",
            "4/4 [==============================] - 0s 4ms/step - loss: 2.3121 - mae: 2.3121\n",
            "Epoch 11/20\n",
            "4/4 [==============================] - 0s 4ms/step - loss: 2.0735 - mae: 2.0735\n",
            "Epoch 12/20\n",
            "4/4 [==============================] - 0s 3ms/step - loss: 2.0111 - mae: 2.0111\n",
            "Epoch 13/20\n",
            "4/4 [==============================] - 0s 3ms/step - loss: 2.2917 - mae: 2.2917\n",
            "Epoch 14/20\n",
            "4/4 [==============================] - 0s 3ms/step - loss: 2.1506 - mae: 2.1506\n",
            "Epoch 15/20\n",
            "4/4 [==============================] - 0s 3ms/step - loss: 2.2545 - mae: 2.2545\n",
            "Epoch 16/20\n",
            "4/4 [==============================] - 0s 3ms/step - loss: 2.0039 - mae: 2.0039\n",
            "Epoch 17/20\n",
            "4/4 [==============================] - 0s 3ms/step - loss: 2.2721 - mae: 2.2721\n",
            "Epoch 18/20\n",
            "4/4 [==============================] - 0s 3ms/step - loss: 2.8614 - mae: 2.8614\n",
            "Epoch 19/20\n",
            "4/4 [==============================] - 0s 3ms/step - loss: 2.4528 - mae: 2.4528\n",
            "Epoch 20/20\n",
            "4/4 [==============================] - 0s 3ms/step - loss: 2.1420 - mae: 2.1420\n"
          ]
        },
        {
          "output_type": "execute_result",
          "data": {
            "text/plain": [
              "<keras.callbacks.History at 0x7f6bc044fe90>"
            ]
          },
          "metadata": {},
          "execution_count": 5
        }
      ]
    },
    {
      "cell_type": "code",
      "source": [
        "## Try and make a predictions\n",
        "model.predict([10.0])"
      ],
      "metadata": {
        "colab": {
          "base_uri": "https://localhost:8080/"
        },
        "id": "WxSMUsCAcl4h",
        "outputId": "50b74dd9-5965-436e-a95a-5ea19dc7e8d5"
      },
      "execution_count": null,
      "outputs": [
        {
          "output_type": "execute_result",
          "data": {
            "text/plain": [
              "array([[13.099444]], dtype=float32)"
            ]
          },
          "metadata": {},
          "execution_count": 6
        }
      ]
    },
    {
      "cell_type": "code",
      "source": [
        "x = np.linspace(0,30,100)\n",
        "y = x + 5 \n",
        "\n",
        "X = tf.constant(x)\n",
        "Y = tf.constant(y)"
      ],
      "metadata": {
        "id": "tZifYaqGnKWy"
      },
      "execution_count": null,
      "outputs": []
    },
    {
      "cell_type": "code",
      "source": [
        "X = tf.expand_dims(X,axis=-1)\n",
        "X = tf.cast(X, dtype=tf.float32)\n",
        "\n",
        "Y = tf.expand_dims(Y,axis=-1)\n",
        "Y = tf.cast(Y, dtype=tf.float32)"
      ],
      "metadata": {
        "id": "03k5-Y4Ml8NE"
      },
      "execution_count": null,
      "outputs": []
    },
    {
      "cell_type": "code",
      "source": [
        "Y = tf.math.add(Y,tf.random.normal(shape=(100,1),mean=10,stddev=2.5))\n",
        "plt.scatter(X,Y)"
      ],
      "metadata": {
        "colab": {
          "base_uri": "https://localhost:8080/",
          "height": 282
        },
        "id": "IpNFdAQ7iL0Z",
        "outputId": "669630ad-9f7c-4ce9-9abb-c66a7bf6c880"
      },
      "execution_count": null,
      "outputs": [
        {
          "output_type": "execute_result",
          "data": {
            "text/plain": [
              "<matplotlib.collections.PathCollection at 0x7f6bc00e6490>"
            ]
          },
          "metadata": {},
          "execution_count": 9
        },
        {
          "output_type": "display_data",
          "data": {
            "text/plain": [
              "<Figure size 432x288 with 1 Axes>"
            ],
            "image/png": "[encoded data removed]"
          },
          "metadata": {
            "needs_background": "light"
          }
        }
      ]
    },
    {
      "cell_type": "code",
      "source": [
        "## Improving our model\n",
        "model = tf.keras.Sequential([\n",
        "    tf.keras.layers.Dense(100,activation='relu'),\n",
        "    tf.keras.layers.Dense(10,activation='relu'),\n",
        "    tf.keras.layers.Dense(10,activation='relu'),\n",
        "    tf.keras.layers.Dense(1)\n",
        "])\n",
        "\n",
        "model.compile(loss= tf.keras.losses.mae,\n",
        "              optimizer= tf.keras.optimizers.Adam(lr=0.0001),\n",
        "              metrics=[\"mae\"])\n",
        "\n",
        "model.fit(X, Y, epochs=200)\n"
      ],
      "metadata": {
        "colab": {
          "base_uri": "https://localhost:8080/"
        },
        "id": "v6TeoGsTcl1g",
        "outputId": "f38efacf-dc23-4c11-f7c1-448f81553748"
      },
      "execution_count": null,
      "outputs": [
        {
          "output_type": "stream",
          "name": "stdout",
          "text": [
            "Epoch 1/200\n"
          ]
        },
        {
          "output_type": "stream",
          "name": "stderr",
          "text": [
            "/usr/local/lib/python3.7/dist-packages/keras/optimizer_v2/adam.py:105: UserWarning: The `lr` argument is deprecated, use `learning_rate` instead.\n",
            "  super(Adam, self).__init__(name, **kwargs)\n"
          ]
        },
        {
          "output_type": "stream",
          "name": "stdout",
          "text": [
            "4/4 [==============================] - 0s 4ms/step - loss: 29.8763 - mae: 29.8763\n",
            "Epoch 2/200\n",
            "4/4 [==============================] - 0s 4ms/step - loss: 29.8491 - mae: 29.8491\n",
            "Epoch 3/200\n",
            "4/4 [==============================] - 0s 3ms/step - loss: 29.8222 - mae: 29.8222\n",
            "Epoch 4/200\n",
            "4/4 [==============================] - 0s 4ms/step - loss: 29.7949 - mae: 29.7949\n",
            "Epoch 5/200\n",
            "4/4 [==============================] - 0s 4ms/step - loss: 29.7685 - mae: 29.7685\n",
            "Epoch 6/200\n",
            "4/4 [==============================] - 0s 4ms/step - loss: 29.7424 - mae: 29.7424\n",
            "Epoch 7/200\n",
            "4/4 [==============================] - 0s 5ms/step - loss: 29.7160 - mae: 29.7160\n",
            "Epoch 8/200\n",
            "4/4 [==============================] - 0s 4ms/step - loss: 29.6899 - mae: 29.6899\n",
            "Epoch 9/200\n",
            "4/4 [==============================] - 0s 4ms/step - loss: 29.6635 - mae: 29.6635\n",
            "Epoch 10/200\n",
            "4/4 [==============================] - 0s 4ms/step - loss: 29.6373 - mae: 29.6373\n",
            "Epoch 11/200\n",
            "4/4 [==============================] - 0s 4ms/step - loss: 29.6120 - mae: 29.6120\n",
            "Epoch 12/200\n",
            "4/4 [==============================] - 0s 4ms/step - loss: 29.5863 - mae: 29.5863\n",
            "Epoch 13/200\n",
            "4/4 [==============================] - 0s 4ms/step - loss: 29.5607 - mae: 29.5607\n",
            "Epoch 14/200\n",
            "4/4 [==============================] - 0s 4ms/step - loss: 29.5344 - mae: 29.5344\n",
            "Epoch 15/200\n",
            "4/4 [==============================] - 0s 4ms/step - loss: 29.5089 - mae: 29.5089\n",
            "Epoch 16/200\n",
            "4/4 [==============================] - 0s 4ms/step - loss: 29.4827 - mae: 29.4827\n",
            "Epoch 17/200\n",
            "4/4 [==============================] - 0s 4ms/step - loss: 29.4564 - mae: 29.4564\n",
            "Epoch 18/200\n",
            "4/4 [==============================] - 0s 7ms/step - loss: 29.4298 - mae: 29.4298\n",
            "Epoch 19/200\n",
            "4/4 [==============================] - 0s 4ms/step - loss: 29.4048 - mae: 29.4048\n",
            "Epoch 20/200\n",
            "4/4 [==============================] - 0s 4ms/step - loss: 29.3782 - mae: 29.3782\n",
            "Epoch 21/200\n",
            "4/4 [==============================] - 0s 4ms/step - loss: 29.3531 - mae: 29.3531\n",
            "Epoch 22/200\n",
            "4/4 [==============================] - 0s 5ms/step - loss: 29.3277 - mae: 29.3277\n",
            "Epoch 23/200\n",
            "4/4 [==============================] - 0s 4ms/step - loss: 29.3023 - mae: 29.3023\n",
            "Epoch 24/200\n",
            "4/4 [==============================] - 0s 4ms/step - loss: 29.2778 - mae: 29.2778\n",
            "Epoch 25/200\n",
            "4/4 [==============================] - 0s 4ms/step - loss: 29.2538 - mae: 29.2538\n",
            "Epoch 26/200\n",
            "4/4 [==============================] - 0s 4ms/step - loss: 29.2310 - mae: 29.2310\n",
            "Epoch 27/200\n",
            "4/4 [==============================] - 0s 4ms/step - loss: 29.2122 - mae: 29.2122\n",
            "Epoch 28/200\n",
            "4/4 [==============================] - 0s 6ms/step - loss: 29.1983 - mae: 29.1983\n",
            "Epoch 29/200\n",
            "4/4 [==============================] - 0s 4ms/step - loss: 29.1836 - mae: 29.1836\n",
            "Epoch 30/200\n",
            "4/4 [==============================] - 0s 4ms/step - loss: 29.1687 - mae: 29.1687\n",
            "Epoch 31/200\n",
            "4/4 [==============================] - 0s 4ms/step - loss: 29.1526 - mae: 29.1526\n",
            "Epoch 32/200\n",
            "4/4 [==============================] - 0s 4ms/step - loss: 29.1367 - mae: 29.1367\n",
            "Epoch 33/200\n",
            "4/4 [==============================] - 0s 6ms/step - loss: 29.1209 - mae: 29.1209\n",
            "Epoch 34/200\n",
            "4/4 [==============================] - 0s 4ms/step - loss: 29.1056 - mae: 29.1056\n",
            "Epoch 35/200\n",
            "4/4 [==============================] - 0s 4ms/step - loss: 29.0902 - mae: 29.0902\n",
            "Epoch 36/200\n",
            "4/4 [==============================] - 0s 5ms/step - loss: 29.0746 - mae: 29.0746\n",
            "Epoch 37/200\n",
            "4/4 [==============================] - 0s 4ms/step - loss: 29.0585 - mae: 29.0585\n",
            "Epoch 38/200\n",
            "4/4 [==============================] - 0s 4ms/step - loss: 29.0431 - mae: 29.0431\n",
            "Epoch 39/200\n",
            "4/4 [==============================] - 0s 4ms/step - loss: 29.0278 - mae: 29.0278\n",
            "Epoch 40/200\n",
            "4/4 [==============================] - 0s 4ms/step - loss: 29.0113 - mae: 29.0113\n",
            "Epoch 41/200\n",
            "4/4 [==============================] - 0s 4ms/step - loss: 28.9955 - mae: 28.9955\n",
            "Epoch 42/200\n",
            "4/4 [==============================] - 0s 3ms/step - loss: 28.9786 - mae: 28.9786\n",
            "Epoch 43/200\n",
            "4/4 [==============================] - 0s 4ms/step - loss: 28.9620 - mae: 28.9620\n",
            "Epoch 44/200\n",
            "4/4 [==============================] - 0s 3ms/step - loss: 28.9446 - mae: 28.9446\n",
            "Epoch 45/200\n",
            "4/4 [==============================] - 0s 4ms/step - loss: 28.9205 - mae: 28.9205\n",
            "Epoch 46/200\n",
            "4/4 [==============================] - 0s 4ms/step - loss: 28.8907 - mae: 28.8907\n",
            "Epoch 47/200\n",
            "4/4 [==============================] - 0s 4ms/step - loss: 28.8584 - mae: 28.8584\n",
            "Epoch 48/200\n",
            "4/4 [==============================] - 0s 4ms/step - loss: 28.8084 - mae: 28.8084\n",
            "Epoch 49/200\n",
            "4/4 [==============================] - 0s 4ms/step - loss: 28.7200 - mae: 28.7200\n",
            "Epoch 50/200\n",
            "4/4 [==============================] - 0s 4ms/step - loss: 28.6240 - mae: 28.6240\n",
            "Epoch 51/200\n",
            "4/4 [==============================] - 0s 4ms/step - loss: 28.5191 - mae: 28.5191\n",
            "Epoch 52/200\n",
            "4/4 [==============================] - 0s 4ms/step - loss: 28.4158 - mae: 28.4158\n",
            "Epoch 53/200\n",
            "4/4 [==============================] - 0s 4ms/step - loss: 28.3137 - mae: 28.3137\n",
            "Epoch 54/200\n",
            "4/4 [==============================] - 0s 4ms/step - loss: 28.2210 - mae: 28.2210\n",
            "Epoch 55/200\n",
            "4/4 [==============================] - 0s 5ms/step - loss: 28.1273 - mae: 28.1273\n",
            "Epoch 56/200\n",
            "4/4 [==============================] - 0s 4ms/step - loss: 28.0352 - mae: 28.0352\n",
            "Epoch 57/200\n",
            "4/4 [==============================] - 0s 4ms/step - loss: 27.9459 - mae: 27.9459\n",
            "Epoch 58/200\n",
            "4/4 [==============================] - 0s 4ms/step - loss: 27.8556 - mae: 27.8556\n",
            "Epoch 59/200\n",
            "4/4 [==============================] - 0s 4ms/step - loss: 27.7674 - mae: 27.7674\n",
            "Epoch 60/200\n",
            "4/4 [==============================] - 0s 6ms/step - loss: 27.6791 - mae: 27.6791\n",
            "Epoch 61/200\n",
            "4/4 [==============================] - 0s 4ms/step - loss: 27.5900 - mae: 27.5900\n",
            "Epoch 62/200\n",
            "4/4 [==============================] - 0s 4ms/step - loss: 27.5020 - mae: 27.5020\n",
            "Epoch 63/200\n",
            "4/4 [==============================] - 0s 4ms/step - loss: 27.4138 - mae: 27.4138\n",
            "Epoch 64/200\n",
            "4/4 [==============================] - 0s 4ms/step - loss: 27.3287 - mae: 27.3287\n",
            "Epoch 65/200\n",
            "4/4 [==============================] - 0s 4ms/step - loss: 27.2394 - mae: 27.2394\n",
            "Epoch 66/200\n",
            "4/4 [==============================] - 0s 4ms/step - loss: 27.1532 - mae: 27.1532\n",
            "Epoch 67/200\n",
            "4/4 [==============================] - 0s 4ms/step - loss: 27.0639 - mae: 27.0639\n",
            "Epoch 68/200\n",
            "4/4 [==============================] - 0s 4ms/step - loss: 26.9880 - mae: 26.9880\n",
            "Epoch 69/200\n",
            "4/4 [==============================] - 0s 4ms/step - loss: 26.9104 - mae: 26.9104\n",
            "Epoch 70/200\n",
            "4/4 [==============================] - 0s 6ms/step - loss: 26.8340 - mae: 26.8340\n",
            "Epoch 71/200\n",
            "4/4 [==============================] - 0s 4ms/step - loss: 26.7582 - mae: 26.7582\n",
            "Epoch 72/200\n",
            "4/4 [==============================] - 0s 4ms/step - loss: 26.6797 - mae: 26.6797\n",
            "Epoch 73/200\n",
            "4/4 [==============================] - 0s 4ms/step - loss: 26.6023 - mae: 26.6023\n",
            "Epoch 74/200\n",
            "4/4 [==============================] - 0s 4ms/step - loss: 26.5228 - mae: 26.5228\n",
            "Epoch 75/200\n",
            "4/4 [==============================] - 0s 6ms/step - loss: 26.4451 - mae: 26.4451\n",
            "Epoch 76/200\n",
            "4/4 [==============================] - 0s 4ms/step - loss: 26.3676 - mae: 26.3676\n",
            "Epoch 77/200\n",
            "4/4 [==============================] - 0s 4ms/step - loss: 26.2901 - mae: 26.2901\n",
            "Epoch 78/200\n",
            "4/4 [==============================] - 0s 4ms/step - loss: 26.2080 - mae: 26.2080\n",
            "Epoch 79/200\n",
            "4/4 [==============================] - 0s 4ms/step - loss: 26.1269 - mae: 26.1269\n",
            "Epoch 80/200\n",
            "4/4 [==============================] - 0s 4ms/step - loss: 26.0456 - mae: 26.0456\n",
            "Epoch 81/200\n",
            "4/4 [==============================] - 0s 4ms/step - loss: 25.9628 - mae: 25.9628\n",
            "Epoch 82/200\n",
            "4/4 [==============================] - 0s 4ms/step - loss: 25.8809 - mae: 25.8809\n",
            "Epoch 83/200\n",
            "4/4 [==============================] - 0s 4ms/step - loss: 25.7963 - mae: 25.7963\n",
            "Epoch 84/200\n",
            "4/4 [==============================] - 0s 4ms/step - loss: 25.7100 - mae: 25.7100\n",
            "Epoch 85/200\n",
            "4/4 [==============================] - 0s 4ms/step - loss: 25.6266 - mae: 25.6266\n",
            "Epoch 86/200\n",
            "4/4 [==============================] - 0s 4ms/step - loss: 25.5408 - mae: 25.5408\n",
            "Epoch 87/200\n",
            "4/4 [==============================] - 0s 3ms/step - loss: 25.4544 - mae: 25.4544\n",
            "Epoch 88/200\n",
            "4/4 [==============================] - 0s 3ms/step - loss: 25.3642 - mae: 25.3642\n",
            "Epoch 89/200\n",
            "4/4 [==============================] - 0s 3ms/step - loss: 25.2746 - mae: 25.2746\n",
            "Epoch 90/200\n",
            "4/4 [==============================] - 0s 3ms/step - loss: 25.1807 - mae: 25.1807\n",
            "Epoch 91/200\n",
            "4/4 [==============================] - 0s 4ms/step - loss: 25.0891 - mae: 25.0891\n",
            "Epoch 92/200\n",
            "4/4 [==============================] - 0s 4ms/step - loss: 24.9938 - mae: 24.9938\n",
            "Epoch 93/200\n",
            "4/4 [==============================] - 0s 4ms/step - loss: 24.8965 - mae: 24.8965\n",
            "Epoch 94/200\n",
            "4/4 [==============================] - 0s 4ms/step - loss: 24.7982 - mae: 24.7982\n",
            "Epoch 95/200\n",
            "4/4 [==============================] - 0s 4ms/step - loss: 24.7017 - mae: 24.7017\n",
            "Epoch 96/200\n",
            "4/4 [==============================] - 0s 4ms/step - loss: 24.6005 - mae: 24.6005\n",
            "Epoch 97/200\n",
            "4/4 [==============================] - 0s 4ms/step - loss: 24.5012 - mae: 24.5012\n",
            "Epoch 98/200\n",
            "4/4 [==============================] - 0s 3ms/step - loss: 24.4016 - mae: 24.4016\n",
            "Epoch 99/200\n",
            "4/4 [==============================] - 0s 4ms/step - loss: 24.3002 - mae: 24.3002\n",
            "Epoch 100/200\n",
            "4/4 [==============================] - 0s 3ms/step - loss: 24.1991 - mae: 24.1991\n",
            "Epoch 101/200\n",
            "4/4 [==============================] - 0s 3ms/step - loss: 24.0968 - mae: 24.0968\n",
            "Epoch 102/200\n",
            "4/4 [==============================] - 0s 4ms/step - loss: 23.9891 - mae: 23.9891\n",
            "Epoch 103/200\n",
            "4/4 [==============================] - 0s 4ms/step - loss: 23.8746 - mae: 23.8746\n",
            "Epoch 104/200\n",
            "4/4 [==============================] - 0s 4ms/step - loss: 23.7590 - mae: 23.7590\n",
            "Epoch 105/200\n",
            "4/4 [==============================] - 0s 4ms/step - loss: 23.6378 - mae: 23.6378\n",
            "Epoch 106/200\n",
            "4/4 [==============================] - 0s 3ms/step - loss: 23.5169 - mae: 23.5169\n",
            "Epoch 107/200\n",
            "4/4 [==============================] - 0s 3ms/step - loss: 23.3903 - mae: 23.3903\n",
            "Epoch 108/200\n",
            "4/4 [==============================] - 0s 3ms/step - loss: 23.2635 - mae: 23.2635\n",
            "Epoch 109/200\n",
            "4/4 [==============================] - 0s 3ms/step - loss: 23.1326 - mae: 23.1326\n",
            "Epoch 110/200\n",
            "4/4 [==============================] - 0s 3ms/step - loss: 22.9943 - mae: 22.9943\n",
            "Epoch 111/200\n",
            "4/4 [==============================] - 0s 3ms/step - loss: 22.8578 - mae: 22.8578\n",
            "Epoch 112/200\n",
            "4/4 [==============================] - 0s 3ms/step - loss: 22.7276 - mae: 22.7276\n",
            "Epoch 113/200\n",
            "4/4 [==============================] - 0s 4ms/step - loss: 22.5924 - mae: 22.5924\n",
            "Epoch 114/200\n",
            "4/4 [==============================] - 0s 4ms/step - loss: 22.4590 - mae: 22.4590\n",
            "Epoch 115/200\n",
            "4/4 [==============================] - 0s 4ms/step - loss: 22.3225 - mae: 22.3225\n",
            "Epoch 116/200\n",
            "4/4 [==============================] - 0s 4ms/step - loss: 22.1869 - mae: 22.1869\n",
            "Epoch 117/200\n",
            "4/4 [==============================] - 0s 6ms/step - loss: 22.0502 - mae: 22.0502\n",
            "Epoch 118/200\n",
            "4/4 [==============================] - 0s 3ms/step - loss: 21.9079 - mae: 21.9079\n",
            "Epoch 119/200\n",
            "4/4 [==============================] - 0s 3ms/step - loss: 21.7625 - mae: 21.7625\n",
            "Epoch 120/200\n",
            "4/4 [==============================] - 0s 3ms/step - loss: 21.6165 - mae: 21.6165\n",
            "Epoch 121/200\n",
            "4/4 [==============================] - 0s 4ms/step - loss: 21.4676 - mae: 21.4676\n",
            "Epoch 122/200\n",
            "4/4 [==============================] - 0s 3ms/step - loss: 21.3114 - mae: 21.3114\n",
            "Epoch 123/200\n",
            "4/4 [==============================] - 0s 4ms/step - loss: 21.1014 - mae: 21.1014\n",
            "Epoch 124/200\n",
            "4/4 [==============================] - 0s 3ms/step - loss: 20.8116 - mae: 20.8116\n",
            "Epoch 125/200\n",
            "4/4 [==============================] - 0s 3ms/step - loss: 20.4782 - mae: 20.4782\n",
            "Epoch 126/200\n",
            "4/4 [==============================] - 0s 4ms/step - loss: 20.1541 - mae: 20.1541\n",
            "Epoch 127/200\n",
            "4/4 [==============================] - 0s 4ms/step - loss: 19.8018 - mae: 19.8018\n",
            "Epoch 128/200\n",
            "4/4 [==============================] - 0s 4ms/step - loss: 19.4515 - mae: 19.4515\n",
            "Epoch 129/200\n",
            "4/4 [==============================] - 0s 3ms/step - loss: 19.1105 - mae: 19.1105\n",
            "Epoch 130/200\n",
            "4/4 [==============================] - 0s 3ms/step - loss: 18.7784 - mae: 18.7784\n",
            "Epoch 131/200\n",
            "4/4 [==============================] - 0s 4ms/step - loss: 18.4493 - mae: 18.4493\n",
            "Epoch 132/200\n",
            "4/4 [==============================] - 0s 4ms/step - loss: 18.1251 - mae: 18.1251\n",
            "Epoch 133/200\n",
            "4/4 [==============================] - 0s 3ms/step - loss: 17.7906 - mae: 17.7906\n",
            "Epoch 134/200\n",
            "4/4 [==============================] - 0s 4ms/step - loss: 17.4793 - mae: 17.4793\n",
            "Epoch 135/200\n",
            "4/4 [==============================] - 0s 4ms/step - loss: 17.1715 - mae: 17.1715\n",
            "Epoch 136/200\n",
            "4/4 [==============================] - 0s 4ms/step - loss: 16.8507 - mae: 16.8507\n",
            "Epoch 137/200\n",
            "4/4 [==============================] - 0s 4ms/step - loss: 16.5397 - mae: 16.5397\n",
            "Epoch 138/200\n",
            "4/4 [==============================] - 0s 6ms/step - loss: 16.2176 - mae: 16.2176\n",
            "Epoch 139/200\n",
            "4/4 [==============================] - 0s 3ms/step - loss: 15.9006 - mae: 15.9006\n",
            "Epoch 140/200\n",
            "4/4 [==============================] - 0s 3ms/step - loss: 15.5834 - mae: 15.5834\n",
            "Epoch 141/200\n",
            "4/4 [==============================] - 0s 3ms/step - loss: 15.2696 - mae: 15.2696\n",
            "Epoch 142/200\n",
            "4/4 [==============================] - 0s 3ms/step - loss: 14.9510 - mae: 14.9510\n",
            "Epoch 143/200\n",
            "4/4 [==============================] - 0s 4ms/step - loss: 14.6340 - mae: 14.6340\n",
            "Epoch 144/200\n",
            "4/4 [==============================] - 0s 3ms/step - loss: 14.3067 - mae: 14.3067\n",
            "Epoch 145/200\n",
            "4/4 [==============================] - 0s 3ms/step - loss: 13.9784 - mae: 13.9784\n",
            "Epoch 146/200\n",
            "4/4 [==============================] - 0s 3ms/step - loss: 13.6456 - mae: 13.6456\n",
            "Epoch 147/200\n",
            "4/4 [==============================] - 0s 5ms/step - loss: 13.3019 - mae: 13.3019\n",
            "Epoch 148/200\n",
            "4/4 [==============================] - 0s 4ms/step - loss: 12.9643 - mae: 12.9643\n",
            "Epoch 149/200\n",
            "4/4 [==============================] - 0s 4ms/step - loss: 12.6171 - mae: 12.6171\n",
            "Epoch 150/200\n",
            "4/4 [==============================] - 0s 4ms/step - loss: 12.2889 - mae: 12.2889\n",
            "Epoch 151/200\n",
            "4/4 [==============================] - 0s 3ms/step - loss: 11.9541 - mae: 11.9541\n",
            "Epoch 152/200\n",
            "4/4 [==============================] - 0s 3ms/step - loss: 11.6234 - mae: 11.6234\n",
            "Epoch 153/200\n",
            "4/4 [==============================] - 0s 3ms/step - loss: 11.2785 - mae: 11.2785\n",
            "Epoch 154/200\n",
            "4/4 [==============================] - 0s 3ms/step - loss: 10.9466 - mae: 10.9466\n",
            "Epoch 155/200\n",
            "4/4 [==============================] - 0s 3ms/step - loss: 10.5957 - mae: 10.5957\n",
            "Epoch 156/200\n",
            "4/4 [==============================] - 0s 3ms/step - loss: 10.2591 - mae: 10.2591\n",
            "Epoch 157/200\n",
            "4/4 [==============================] - 0s 4ms/step - loss: 9.8939 - mae: 9.8939\n",
            "Epoch 158/200\n",
            "4/4 [==============================] - 0s 4ms/step - loss: 9.5427 - mae: 9.5427\n",
            "Epoch 159/200\n",
            "4/4 [==============================] - 0s 5ms/step - loss: 9.1821 - mae: 9.1821\n",
            "Epoch 160/200\n",
            "4/4 [==============================] - 0s 3ms/step - loss: 8.8198 - mae: 8.8198\n",
            "Epoch 161/200\n",
            "4/4 [==============================] - 0s 3ms/step - loss: 8.4544 - mae: 8.4544\n",
            "Epoch 162/200\n",
            "4/4 [==============================] - 0s 3ms/step - loss: 8.0888 - mae: 8.0888\n",
            "Epoch 163/200\n",
            "4/4 [==============================] - 0s 5ms/step - loss: 7.7510 - mae: 7.7510\n",
            "Epoch 164/200\n",
            "4/4 [==============================] - 0s 4ms/step - loss: 7.4468 - mae: 7.4468\n",
            "Epoch 165/200\n",
            "4/4 [==============================] - 0s 4ms/step - loss: 7.1737 - mae: 7.1737\n",
            "Epoch 166/200\n",
            "4/4 [==============================] - 0s 3ms/step - loss: 6.9411 - mae: 6.9411\n",
            "Epoch 167/200\n",
            "4/4 [==============================] - 0s 4ms/step - loss: 6.7333 - mae: 6.7333\n",
            "Epoch 168/200\n",
            "4/4 [==============================] - 0s 5ms/step - loss: 6.5634 - mae: 6.5634\n",
            "Epoch 169/200\n",
            "4/4 [==============================] - 0s 3ms/step - loss: 6.4363 - mae: 6.4363\n",
            "Epoch 170/200\n",
            "4/4 [==============================] - 0s 3ms/step - loss: 6.3174 - mae: 6.3174\n",
            "Epoch 171/200\n",
            "4/4 [==============================] - 0s 5ms/step - loss: 6.2401 - mae: 6.2401\n",
            "Epoch 172/200\n",
            "4/4 [==============================] - 0s 3ms/step - loss: 6.1673 - mae: 6.1673\n",
            "Epoch 173/200\n",
            "4/4 [==============================] - 0s 3ms/step - loss: 6.1225 - mae: 6.1225\n",
            "Epoch 174/200\n",
            "4/4 [==============================] - 0s 3ms/step - loss: 6.0819 - mae: 6.0819\n",
            "Epoch 175/200\n",
            "4/4 [==============================] - 0s 3ms/step - loss: 6.0520 - mae: 6.0520\n",
            "Epoch 176/200\n",
            "4/4 [==============================] - 0s 3ms/step - loss: 6.0241 - mae: 6.0241\n",
            "Epoch 177/200\n",
            "4/4 [==============================] - 0s 4ms/step - loss: 6.0110 - mae: 6.0110\n",
            "Epoch 178/200\n",
            "4/4 [==============================] - 0s 3ms/step - loss: 6.0039 - mae: 6.0039\n",
            "Epoch 179/200\n",
            "4/4 [==============================] - 0s 4ms/step - loss: 5.9947 - mae: 5.9947\n",
            "Epoch 180/200\n",
            "4/4 [==============================] - 0s 3ms/step - loss: 5.9908 - mae: 5.9908\n",
            "Epoch 181/200\n",
            "4/4 [==============================] - 0s 3ms/step - loss: 5.9882 - mae: 5.9882\n",
            "Epoch 182/200\n",
            "4/4 [==============================] - 0s 3ms/step - loss: 5.9855 - mae: 5.9855\n",
            "Epoch 183/200\n",
            "4/4 [==============================] - 0s 3ms/step - loss: 5.9826 - mae: 5.9826\n",
            "Epoch 184/200\n",
            "4/4 [==============================] - 0s 3ms/step - loss: 5.9809 - mae: 5.9809\n",
            "Epoch 185/200\n",
            "4/4 [==============================] - 0s 4ms/step - loss: 5.9768 - mae: 5.9768\n",
            "Epoch 186/200\n",
            "4/4 [==============================] - 0s 4ms/step - loss: 5.9743 - mae: 5.9743\n",
            "Epoch 187/200\n",
            "4/4 [==============================] - 0s 4ms/step - loss: 5.9710 - mae: 5.9710\n",
            "Epoch 188/200\n",
            "4/4 [==============================] - 0s 3ms/step - loss: 5.9666 - mae: 5.9666\n",
            "Epoch 189/200\n",
            "4/4 [==============================] - 0s 3ms/step - loss: 5.9664 - mae: 5.9664\n",
            "Epoch 190/200\n",
            "4/4 [==============================] - 0s 3ms/step - loss: 5.9616 - mae: 5.9616\n",
            "Epoch 191/200\n",
            "4/4 [==============================] - 0s 3ms/step - loss: 5.9601 - mae: 5.9601\n",
            "Epoch 192/200\n",
            "4/4 [==============================] - 0s 4ms/step - loss: 5.9586 - mae: 5.9586\n",
            "Epoch 193/200\n",
            "4/4 [==============================] - 0s 3ms/step - loss: 5.9564 - mae: 5.9564\n",
            "Epoch 194/200\n",
            "4/4 [==============================] - 0s 3ms/step - loss: 5.9551 - mae: 5.9551\n",
            "Epoch 195/200\n",
            "4/4 [==============================] - 0s 4ms/step - loss: 5.9539 - mae: 5.9539\n",
            "Epoch 196/200\n",
            "4/4 [==============================] - 0s 3ms/step - loss: 5.9523 - mae: 5.9523\n",
            "Epoch 197/200\n",
            "4/4 [==============================] - 0s 3ms/step - loss: 5.9512 - mae: 5.9512\n",
            "Epoch 198/200\n",
            "4/4 [==============================] - 0s 4ms/step - loss: 5.9498 - mae: 5.9498\n",
            "Epoch 199/200\n",
            "4/4 [==============================] - 0s 3ms/step - loss: 5.9484 - mae: 5.9484\n",
            "Epoch 200/200\n",
            "4/4 [==============================] - 0s 4ms/step - loss: 5.9470 - mae: 5.9470\n"
          ]
        },
        {
          "output_type": "execute_result",
          "data": {
            "text/plain": [
              "<keras.callbacks.History at 0x7f6bc0118d10>"
            ]
          },
          "metadata": {},
          "execution_count": 10
        }
      ]
    },
    {
      "cell_type": "code",
      "source": [
        "model.predict([50.])"
      ],
      "metadata": {
        "colab": {
          "base_uri": "https://localhost:8080/"
        },
        "id": "vYu2g3uDclvR",
        "outputId": "0e9ac2e1-36e4-4bda-d920-ae516cf50379"
      },
      "execution_count": null,
      "outputs": [
        {
          "output_type": "execute_result",
          "data": {
            "text/plain": [
              "array([[83.83418]], dtype=float32)"
            ]
          },
          "metadata": {},
          "execution_count": 11
        }
      ]
    },
    {
      "cell_type": "code",
      "source": [
        "#Create the model\n",
        "model = tf.keras.Sequential([\n",
        "    tf.keras.layers.Dense(30, activation=\"relu\"),\n",
        "    tf.keras.layers.Dense(10, activation=None),\n",
        "    tf.keras.layers.Dense(1)\n",
        "])\n",
        "\n",
        "#Compile the model\n",
        "model.compile(loss=\"mae\",\n",
        "              optimizer=tf.keras.optimizers.Adam(lr=0.0001),\n",
        "              metrics = [\"mae\"])\n",
        "\n",
        "##Fit model\n",
        "model.fit(X,Y,epochs=100)\n"
      ],
      "metadata": {
        "id": "stvssnn5clpr",
        "colab": {
          "base_uri": "https://localhost:8080/"
        },
        "outputId": "e0dd6989-c8b4-4afc-fb0e-c1987faf6a78"
      },
      "execution_count": null,
      "outputs": [
        {
          "output_type": "stream",
          "name": "stdout",
          "text": [
            "Epoch 1/100\n",
            "4/4 [==============================] - 0s 4ms/step - loss: 36.3756 - mae: 36.3756\n",
            "Epoch 2/100\n",
            "4/4 [==============================] - 0s 4ms/step - loss: 36.2734 - mae: 36.2734\n",
            "Epoch 3/100\n",
            "4/4 [==============================] - 0s 4ms/step - loss: 36.1725 - mae: 36.1725\n",
            "Epoch 4/100\n",
            "4/4 [==============================] - 0s 3ms/step - loss: 36.0695 - mae: 36.0695\n",
            "Epoch 5/100\n",
            "4/4 [==============================] - 0s 4ms/step - loss: 35.9698 - mae: 35.9698\n",
            "Epoch 6/100\n",
            "4/4 [==============================] - 0s 4ms/step - loss: 35.8711 - mae: 35.8711\n",
            "Epoch 7/100\n",
            "4/4 [==============================] - 0s 4ms/step - loss: 35.7709 - mae: 35.7709\n",
            "Epoch 8/100\n",
            "4/4 [==============================] - 0s 4ms/step - loss: 35.6715 - mae: 35.6715\n",
            "Epoch 9/100\n",
            "4/4 [==============================] - 0s 4ms/step - loss: 35.5711 - mae: 35.5711\n",
            "Epoch 10/100\n",
            "4/4 [==============================] - 0s 3ms/step - loss: 35.4711 - mae: 35.4711\n",
            "Epoch 11/100\n",
            "4/4 [==============================] - 0s 4ms/step - loss: 35.3746 - mae: 35.3746\n",
            "Epoch 12/100\n",
            "4/4 [==============================] - 0s 7ms/step - loss: 35.2768 - mae: 35.2768\n",
            "Epoch 13/100\n",
            "4/4 [==============================] - 0s 4ms/step - loss: 35.1790 - mae: 35.1790\n",
            "Epoch 14/100\n",
            "4/4 [==============================] - 0s 4ms/step - loss: 35.0782 - mae: 35.0782\n",
            "Epoch 15/100\n",
            "4/4 [==============================] - 0s 4ms/step - loss: 34.9809 - mae: 34.9809\n",
            "Epoch 16/100\n",
            "4/4 [==============================] - 0s 4ms/step - loss: 34.8806 - mae: 34.8806\n",
            "Epoch 17/100\n",
            "4/4 [==============================] - 0s 3ms/step - loss: 34.7806 - mae: 34.7806\n",
            "Epoch 18/100\n",
            "4/4 [==============================] - 0s 5ms/step - loss: 34.6793 - mae: 34.6793\n",
            "Epoch 19/100\n",
            "4/4 [==============================] - 0s 3ms/step - loss: 34.5833 - mae: 34.5833\n",
            "Epoch 20/100\n",
            "4/4 [==============================] - 0s 4ms/step - loss: 34.4819 - mae: 34.4819\n",
            "Epoch 21/100\n",
            "4/4 [==============================] - 0s 4ms/step - loss: 34.3863 - mae: 34.3863\n",
            "Epoch 22/100\n",
            "4/4 [==============================] - 0s 4ms/step - loss: 34.2899 - mae: 34.2899\n",
            "Epoch 23/100\n",
            "4/4 [==============================] - 0s 4ms/step - loss: 34.1928 - mae: 34.1928\n",
            "Epoch 24/100\n",
            "4/4 [==============================] - 0s 4ms/step - loss: 34.0968 - mae: 34.0968\n",
            "Epoch 25/100\n",
            "4/4 [==============================] - 0s 4ms/step - loss: 33.9970 - mae: 33.9970\n",
            "Epoch 26/100\n",
            "4/4 [==============================] - 0s 4ms/step - loss: 33.8995 - mae: 33.8995\n",
            "Epoch 27/100\n",
            "4/4 [==============================] - 0s 4ms/step - loss: 33.8030 - mae: 33.8030\n",
            "Epoch 28/100\n",
            "4/4 [==============================] - 0s 5ms/step - loss: 33.7030 - mae: 33.7030\n",
            "Epoch 29/100\n",
            "4/4 [==============================] - 0s 4ms/step - loss: 33.6039 - mae: 33.6039\n",
            "Epoch 30/100\n",
            "4/4 [==============================] - 0s 4ms/step - loss: 33.5088 - mae: 33.5088\n",
            "Epoch 31/100\n",
            "4/4 [==============================] - 0s 4ms/step - loss: 33.4082 - mae: 33.4082\n",
            "Epoch 32/100\n",
            "4/4 [==============================] - 0s 4ms/step - loss: 33.3104 - mae: 33.3104\n",
            "Epoch 33/100\n",
            "4/4 [==============================] - 0s 4ms/step - loss: 33.2138 - mae: 33.2138\n",
            "Epoch 34/100\n",
            "4/4 [==============================] - 0s 4ms/step - loss: 33.1193 - mae: 33.1193\n",
            "Epoch 35/100\n",
            "4/4 [==============================] - 0s 4ms/step - loss: 33.0256 - mae: 33.0256\n",
            "Epoch 36/100\n",
            "4/4 [==============================] - 0s 4ms/step - loss: 32.9322 - mae: 32.9322\n",
            "Epoch 37/100\n",
            "4/4 [==============================] - 0s 3ms/step - loss: 32.8358 - mae: 32.8358\n",
            "Epoch 38/100\n",
            "4/4 [==============================] - 0s 4ms/step - loss: 32.7423 - mae: 32.7423\n",
            "Epoch 39/100\n",
            "4/4 [==============================] - 0s 4ms/step - loss: 32.6534 - mae: 32.6534\n",
            "Epoch 40/100\n",
            "4/4 [==============================] - 0s 4ms/step - loss: 32.5570 - mae: 32.5570\n",
            "Epoch 41/100\n",
            "4/4 [==============================] - 0s 4ms/step - loss: 32.4656 - mae: 32.4656\n",
            "Epoch 42/100\n",
            "4/4 [==============================] - 0s 4ms/step - loss: 32.3695 - mae: 32.3695\n",
            "Epoch 43/100\n",
            "4/4 [==============================] - 0s 5ms/step - loss: 32.2768 - mae: 32.2768\n",
            "Epoch 44/100\n",
            "4/4 [==============================] - 0s 3ms/step - loss: 32.1822 - mae: 32.1822\n",
            "Epoch 45/100\n",
            "4/4 [==============================] - 0s 4ms/step - loss: 32.0904 - mae: 32.0904\n",
            "Epoch 46/100\n",
            "4/4 [==============================] - 0s 4ms/step - loss: 31.9963 - mae: 31.9963\n",
            "Epoch 47/100\n",
            "4/4 [==============================] - 0s 3ms/step - loss: 31.9066 - mae: 31.9066\n",
            "Epoch 48/100\n",
            "4/4 [==============================] - 0s 4ms/step - loss: 31.8119 - mae: 31.8119\n",
            "Epoch 49/100\n",
            "4/4 [==============================] - 0s 4ms/step - loss: 31.7167 - mae: 31.7167\n",
            "Epoch 50/100\n",
            "4/4 [==============================] - 0s 4ms/step - loss: 31.6234 - mae: 31.6234\n",
            "Epoch 51/100\n",
            "4/4 [==============================] - 0s 4ms/step - loss: 31.5245 - mae: 31.5245\n",
            "Epoch 52/100\n",
            "4/4 [==============================] - 0s 4ms/step - loss: 31.4282 - mae: 31.4282\n",
            "Epoch 53/100\n",
            "4/4 [==============================] - 0s 4ms/step - loss: 31.3322 - mae: 31.3322\n",
            "Epoch 54/100\n",
            "4/4 [==============================] - 0s 4ms/step - loss: 31.2387 - mae: 31.2387\n",
            "Epoch 55/100\n",
            "4/4 [==============================] - 0s 4ms/step - loss: 31.1413 - mae: 31.1413\n",
            "Epoch 56/100\n",
            "4/4 [==============================] - 0s 6ms/step - loss: 31.0446 - mae: 31.0446\n",
            "Epoch 57/100\n",
            "4/4 [==============================] - 0s 4ms/step - loss: 30.9503 - mae: 30.9503\n",
            "Epoch 58/100\n",
            "4/4 [==============================] - 0s 4ms/step - loss: 30.8542 - mae: 30.8542\n",
            "Epoch 59/100\n",
            "4/4 [==============================] - 0s 4ms/step - loss: 30.7596 - mae: 30.7596\n",
            "Epoch 60/100\n",
            "4/4 [==============================] - 0s 4ms/step - loss: 30.6635 - mae: 30.6635\n",
            "Epoch 61/100\n",
            "4/4 [==============================] - 0s 4ms/step - loss: 30.5652 - mae: 30.5652\n",
            "Epoch 62/100\n",
            "4/4 [==============================] - 0s 3ms/step - loss: 30.4680 - mae: 30.4680\n",
            "Epoch 63/100\n",
            "4/4 [==============================] - 0s 4ms/step - loss: 30.3704 - mae: 30.3704\n",
            "Epoch 64/100\n",
            "4/4 [==============================] - 0s 4ms/step - loss: 30.2761 - mae: 30.2761\n",
            "Epoch 65/100\n",
            "4/4 [==============================] - 0s 3ms/step - loss: 30.1770 - mae: 30.1770\n",
            "Epoch 66/100\n",
            "4/4 [==============================] - 0s 4ms/step - loss: 30.0810 - mae: 30.0810\n",
            "Epoch 67/100\n",
            "4/4 [==============================] - 0s 4ms/step - loss: 29.9796 - mae: 29.9796\n",
            "Epoch 68/100\n",
            "4/4 [==============================] - 0s 4ms/step - loss: 29.8824 - mae: 29.8824\n",
            "Epoch 69/100\n",
            "4/4 [==============================] - 0s 4ms/step - loss: 29.7823 - mae: 29.7823\n",
            "Epoch 70/100\n",
            "4/4 [==============================] - 0s 3ms/step - loss: 29.6849 - mae: 29.6849\n",
            "Epoch 71/100\n",
            "4/4 [==============================] - 0s 4ms/step - loss: 29.5892 - mae: 29.5892\n",
            "Epoch 72/100\n",
            "4/4 [==============================] - 0s 4ms/step - loss: 29.4904 - mae: 29.4904\n",
            "Epoch 73/100\n",
            "4/4 [==============================] - 0s 4ms/step - loss: 29.3935 - mae: 29.3935\n",
            "Epoch 74/100\n",
            "4/4 [==============================] - 0s 4ms/step - loss: 29.2945 - mae: 29.2945\n",
            "Epoch 75/100\n",
            "4/4 [==============================] - 0s 4ms/step - loss: 29.1983 - mae: 29.1983\n",
            "Epoch 76/100\n",
            "4/4 [==============================] - 0s 4ms/step - loss: 29.1026 - mae: 29.1026\n",
            "Epoch 77/100\n",
            "4/4 [==============================] - 0s 5ms/step - loss: 29.0075 - mae: 29.0075\n",
            "Epoch 78/100\n",
            "4/4 [==============================] - 0s 4ms/step - loss: 28.9070 - mae: 28.9070\n",
            "Epoch 79/100\n",
            "4/4 [==============================] - 0s 4ms/step - loss: 28.8081 - mae: 28.8081\n",
            "Epoch 80/100\n",
            "4/4 [==============================] - 0s 4ms/step - loss: 28.7093 - mae: 28.7093\n",
            "Epoch 81/100\n",
            "4/4 [==============================] - 0s 4ms/step - loss: 28.6092 - mae: 28.6092\n",
            "Epoch 82/100\n",
            "4/4 [==============================] - 0s 3ms/step - loss: 28.5107 - mae: 28.5107\n",
            "Epoch 83/100\n",
            "4/4 [==============================] - 0s 3ms/step - loss: 28.4090 - mae: 28.4090\n",
            "Epoch 84/100\n",
            "4/4 [==============================] - 0s 4ms/step - loss: 28.3060 - mae: 28.3060\n",
            "Epoch 85/100\n",
            "4/4 [==============================] - 0s 4ms/step - loss: 28.2068 - mae: 28.2068\n",
            "Epoch 86/100\n",
            "4/4 [==============================] - 0s 4ms/step - loss: 28.1054 - mae: 28.1054\n",
            "Epoch 87/100\n",
            "4/4 [==============================] - 0s 6ms/step - loss: 28.0037 - mae: 28.0037\n",
            "Epoch 88/100\n",
            "4/4 [==============================] - 0s 4ms/step - loss: 27.8981 - mae: 27.8981\n",
            "Epoch 89/100\n",
            "4/4 [==============================] - 0s 4ms/step - loss: 27.7936 - mae: 27.7936\n",
            "Epoch 90/100\n",
            "4/4 [==============================] - 0s 4ms/step - loss: 27.6847 - mae: 27.6847\n",
            "Epoch 91/100\n",
            "4/4 [==============================] - 0s 4ms/step - loss: 27.5790 - mae: 27.5790\n",
            "Epoch 92/100\n",
            "4/4 [==============================] - 0s 4ms/step - loss: 27.4696 - mae: 27.4696\n",
            "Epoch 93/100\n",
            "4/4 [==============================] - 0s 4ms/step - loss: 27.3583 - mae: 27.3583\n",
            "Epoch 94/100\n",
            "4/4 [==============================] - 0s 4ms/step - loss: 27.2465 - mae: 27.2465\n",
            "Epoch 95/100\n",
            "4/4 [==============================] - 0s 4ms/step - loss: 27.1372 - mae: 27.1372\n",
            "Epoch 96/100\n",
            "4/4 [==============================] - 0s 6ms/step - loss: 27.0231 - mae: 27.0231\n",
            "Epoch 97/100\n",
            "4/4 [==============================] - 0s 4ms/step - loss: 26.9120 - mae: 26.9120\n",
            "Epoch 98/100\n",
            "4/4 [==============================] - 0s 3ms/step - loss: 26.8012 - mae: 26.8012\n",
            "Epoch 99/100\n",
            "4/4 [==============================] - 0s 4ms/step - loss: 26.6890 - mae: 26.6890\n",
            "Epoch 100/100\n",
            "4/4 [==============================] - 0s 4ms/step - loss: 26.5781 - mae: 26.5781\n"
          ]
        },
        {
          "output_type": "execute_result",
          "data": {
            "text/plain": [
              "<keras.callbacks.History at 0x7f6b546ab050>"
            ]
          },
          "metadata": {},
          "execution_count": 12
        }
      ]
    },
    {
      "cell_type": "code",
      "source": [
        "## Predict\n",
        "model.predict([20.9])"
      ],
      "metadata": {
        "colab": {
          "base_uri": "https://localhost:8080/"
        },
        "id": "NHC6ybwRyHhH",
        "outputId": "edc55b97-1493-4fdd-a469-35f5d6582f4e"
      },
      "execution_count": null,
      "outputs": [
        {
          "output_type": "execute_result",
          "data": {
            "text/plain": [
              "array([[4.6160607]], dtype=float32)"
            ]
          },
          "metadata": {},
          "execution_count": 13
        }
      ]
    },
    {
      "cell_type": "code",
      "source": [
        "model.predict([30])"
      ],
      "metadata": {
        "colab": {
          "base_uri": "https://localhost:8080/"
        },
        "id": "TpHAg7I5yr7-",
        "outputId": "810fe33c-171a-4f90-95b5-155ba5c9d2de"
      },
      "execution_count": null,
      "outputs": [
        {
          "output_type": "execute_result",
          "data": {
            "text/plain": [
              "array([[6.498718]], dtype=float32)"
            ]
          },
          "metadata": {},
          "execution_count": 14
        }
      ]
    },
    {
      "cell_type": "markdown",
      "source": [
        "## Evaluting a model\n",
        "In practice, a  typical workflow you'll go through when building a neural networks is:\n",
        "Build a model->fit it-> evaluate it->tweak a model->fit it-> ...\n"
      ],
      "metadata": {
        "id": "pDbkGGoUzmVF"
      }
    },
    {
      "cell_type": "markdown",
      "source": [
        "Visualize the data, the model itself, the training of a model, also predictions of a model\n"
      ],
      "metadata": {
        "id": "9M0Nd4Bq0VuP"
      }
    },
    {
      "cell_type": "code",
      "source": [
        "## Bigger dataset\n",
        "\n",
        "X = tf.range(-100,100,4)\n",
        "X"
      ],
      "metadata": {
        "colab": {
          "base_uri": "https://localhost:8080/"
        },
        "id": "EYGTwlzBzl7G",
        "outputId": "78d89366-b825-465c-d297-b6792b8b28f0"
      },
      "execution_count": null,
      "outputs": [
        {
          "output_type": "execute_result",
          "data": {
            "text/plain": [
              "<tf.Tensor: shape=(50,), dtype=int32, numpy=\n",
              "array([-100,  -96,  -92,  -88,  -84,  -80,  -76,  -72,  -68,  -64,  -60,\n",
              "        -56,  -52,  -48,  -44,  -40,  -36,  -32,  -28,  -24,  -20,  -16,\n",
              "        -12,   -8,   -4,    0,    4,    8,   12,   16,   20,   24,   28,\n",
              "         32,   36,   40,   44,   48,   52,   56,   60,   64,   68,   72,\n",
              "         76,   80,   84,   88,   92,   96], dtype=int32)>"
            ]
          },
          "metadata": {},
          "execution_count": 15
        }
      ]
    },
    {
      "cell_type": "code",
      "source": [
        "## Make labels for the dataset\n",
        "Y = X + 10\n",
        "Y"
      ],
      "metadata": {
        "colab": {
          "base_uri": "https://localhost:8080/"
        },
        "id": "SA0zGGHz0rSC",
        "outputId": "1b40aef1-c3dd-4fe4-fd09-b56b7b4c2acc"
      },
      "execution_count": null,
      "outputs": [
        {
          "output_type": "execute_result",
          "data": {
            "text/plain": [
              "<tf.Tensor: shape=(50,), dtype=int32, numpy=\n",
              "array([-90, -86, -82, -78, -74, -70, -66, -62, -58, -54, -50, -46, -42,\n",
              "       -38, -34, -30, -26, -22, -18, -14, -10,  -6,  -2,   2,   6,  10,\n",
              "        14,  18,  22,  26,  30,  34,  38,  42,  46,  50,  54,  58,  62,\n",
              "        66,  70,  74,  78,  82,  86,  90,  94,  98, 102, 106], dtype=int32)>"
            ]
          },
          "metadata": {},
          "execution_count": 16
        }
      ]
    },
    {
      "cell_type": "code",
      "source": [
        "## Visualize the data\n",
        "import matplotlib.pyplot as plt\n",
        "plt.scatter(X,Y)"
      ],
      "metadata": {
        "colab": {
          "base_uri": "https://localhost:8080/",
          "height": 282
        },
        "id": "U_NgAdDW0yPk",
        "outputId": "2d8a6e0a-47a5-4ad7-9770-471e7e2bf937"
      },
      "execution_count": null,
      "outputs": [
        {
          "output_type": "execute_result",
          "data": {
            "text/plain": [
              "<matplotlib.collections.PathCollection at 0x7f6bc010f790>"
            ]
          },
          "metadata": {},
          "execution_count": 17
        },
        {
          "output_type": "display_data",
          "data": {
            "text/plain": [
              "<Figure size 432x288 with 1 Axes>"
            ],
            "image/png": "[encoded data removed]"
          },
          "metadata": {
            "needs_background": "light"
          }
        }
      ]
    },
    {
      "cell_type": "markdown",
      "source": [
        "## The 3 sets:\n",
        "- **Training set** 70-80% of dataset,\n",
        "- **Validation set** typically 10-15% dataset\n",
        "- **Test set** - model test itself 10 - 15% of dataset"
      ],
      "metadata": {
        "id": "w5re3LBZ2q56"
      }
    },
    {
      "cell_type": "code",
      "source": [
        "## Check the len of dataset\n",
        "len(X)"
      ],
      "metadata": {
        "colab": {
          "base_uri": "https://localhost:8080/"
        },
        "id": "9b4w9GDc1BHO",
        "outputId": "e91fcf9b-fd76-46db-b359-3be3738b9c93"
      },
      "execution_count": null,
      "outputs": [
        {
          "output_type": "execute_result",
          "data": {
            "text/plain": [
              "50"
            ]
          },
          "metadata": {},
          "execution_count": 18
        }
      ]
    },
    {
      "cell_type": "code",
      "source": [
        "X = tf.expand_dims(X,axis=-1)\n",
        "X = tf.cast(X, dtype=tf.float32)\n",
        "\n",
        "Y = tf.expand_dims(Y,axis=-1)\n",
        "Y = tf.cast(Y, dtype=tf.float32)\n",
        "\n",
        "## Split the data into train and test sets\n",
        "X_train = X[:40] ## first 40\n",
        "Y_train = Y[:40] \n",
        "\n",
        "X_test = X[40:] \n",
        "Y_test = Y[40:]"
      ],
      "metadata": {
        "id": "SzSDM8bf3fOk"
      },
      "execution_count": null,
      "outputs": []
    },
    {
      "cell_type": "code",
      "source": [
        "X[0]"
      ],
      "metadata": {
        "colab": {
          "base_uri": "https://localhost:8080/"
        },
        "id": "tN0647HD6tVY",
        "outputId": "3544bdbe-34f2-413c-90c9-52cb999dcfc8"
      },
      "execution_count": null,
      "outputs": [
        {
          "output_type": "execute_result",
          "data": {
            "text/plain": [
              "<tf.Tensor: shape=(1,), dtype=float32, numpy=array([-100.], dtype=float32)>"
            ]
          },
          "metadata": {},
          "execution_count": 20
        }
      ]
    },
    {
      "cell_type": "code",
      "source": [
        "## Building a neural network\n",
        "\n",
        "## Creating a model\n",
        "model = tf.keras.Sequential([\n",
        "    tf.keras.layers.Dense(30, activation=None, input_shape=(1,1)),\n",
        "    tf.keras.layers.Dense(10, activation=\"relu\"),\n",
        "    tf.keras.layers.Dense(1)\n",
        "])\n",
        "\n",
        "## Compile the model\n",
        "model.compile(loss=tf.keras.losses.mae,\n",
        "              optimizer=tf.keras.optimizers.Adam(lr=0.01),\n",
        "              metrics=[\"mae\"])\n",
        "\n",
        "## Fitting\n",
        "model.fit(X_train, Y_train, epochs=80, verbose=0)\n"
      ],
      "metadata": {
        "colab": {
          "base_uri": "https://localhost:8080/"
        },
        "id": "1ooMYJRC38bV",
        "outputId": "efa37b42-a5ec-49d3-8ca8-210f2362700d"
      },
      "execution_count": null,
      "outputs": [
        {
          "output_type": "execute_result",
          "data": {
            "text/plain": [
              "<keras.callbacks.History at 0x7f6b54739e50>"
            ]
          },
          "metadata": {},
          "execution_count": 21
        }
      ]
    },
    {
      "cell_type": "code",
      "source": [
        "## Visualizing the model\n",
        "model.summary()"
      ],
      "metadata": {
        "colab": {
          "base_uri": "https://localhost:8080/"
        },
        "id": "0Gd9G69Z5l71",
        "outputId": "fff0b03b-79ca-4c77-a292-7fbe23b1471a"
      },
      "execution_count": null,
      "outputs": [
        {
          "output_type": "stream",
          "name": "stdout",
          "text": [
            "Model: \"sequential_3\"\n",
            "_________________________________________________________________\n",
            " Layer (type)                Output Shape              Param #   \n",
            "=================================================================\n",
            " dense_8 (Dense)             (None, 1, 30)             60        \n",
            "                                                                 \n",
            " dense_9 (Dense)             (None, 1, 10)             310       \n",
            "                                                                 \n",
            " dense_10 (Dense)            (None, 1, 1)              11        \n",
            "                                                                 \n",
            "=================================================================\n",
            "Total params: 381\n",
            "Trainable params: 381\n",
            "Non-trainable params: 0\n",
            "_________________________________________________________________\n"
          ]
        }
      ]
    },
    {
      "cell_type": "code",
      "source": [
        "from tensorflow.keras.utils import  plot_model"
      ],
      "metadata": {
        "id": "ZEzJAKqr_KjU"
      },
      "execution_count": null,
      "outputs": []
    },
    {
      "cell_type": "code",
      "source": [
        "plot_model(model=model,show_shapes=True)"
      ],
      "metadata": {
        "colab": {
          "base_uri": "https://localhost:8080/",
          "height": 422
        },
        "id": "s0AyPI5p_UuT",
        "outputId": "37fe03a1-5e80-4338-a5f4-f2d1bae0085b"
      },
      "execution_count": null,
      "outputs": [
        {
          "output_type": "execute_result",
          "data": {
            "image/png": "[encoded data removed]",
            "text/plain": [
              "<IPython.core.display.Image object>"
            ]
          },
          "metadata": {},
          "execution_count": 24
        }
      ]
    },
    {
      "cell_type": "code",
      "source": [
        "## To visualize predictions\n",
        "\n",
        "y_pred = model.predict(X_test)\n",
        "plt.figure(figsize=(10,7))\n",
        "plt.scatter(X_test, y_pred, color='r', label=\"predicted\")\n",
        "plt.scatter(X_test, Y_test, color='b', label=\"Actual values\")\n",
        "plt.legend()"
      ],
      "metadata": {
        "colab": {
          "base_uri": "https://localhost:8080/",
          "height": 483
        },
        "id": "OFYhtlGbuQBM",
        "outputId": "c9658b52-be48-4c14-d2d3-1413d7ace086"
      },
      "execution_count": null,
      "outputs": [
        {
          "output_type": "stream",
          "name": "stderr",
          "text": [
            "WARNING:tensorflow:5 out of the last 5 calls to <function Model.make_predict_function.<locals>.predict_function at 0x7f6b544f1dd0> triggered tf.function retracing. Tracing is expensive and the excessive number of tracings could be due to (1) creating @tf.function repeatedly in a loop, (2) passing tensors with different shapes, (3) passing Python objects instead of tensors. For (1), please define your @tf.function outside of the loop. For (2), @tf.function has experimental_relax_shapes=True option that relaxes argument shapes that can avoid unnecessary retracing. For (3), please refer to https://www.tensorflow.org/guide/function#controlling_retracing and https://www.tensorflow.org/api_docs/python/tf/function for  more details.\n"
          ]
        },
        {
          "output_type": "execute_result",
          "data": {
            "text/plain": [
              "<matplotlib.legend.Legend at 0x7f6bc02d4e10>"
            ]
          },
          "metadata": {},
          "execution_count": 25
        },
        {
          "output_type": "display_data",
          "data": {
            "text/plain": [
              "<Figure size 720x504 with 1 Axes>"
            ],
            "image/png": "[encoded data removed]"
          },
          "metadata": {
            "needs_background": "light"
          }
        }
      ]
    },
    {
      "cell_type": "code",
      "source": [
        "## Create plotting function\n",
        "def plot_predictions(train_data, train_val,test_data, test_val, model_plot):\n",
        "  \"\"\"\n",
        "  Plots data: actual data vs predicted data from model\n",
        "  \"\"\"\n",
        "  y_pred = model_plot.predict(test_data)\n",
        "  plt.figure(figsize=(10,7))\n",
        "  plt.scatter(train_data, train_val, color='b', label=\"Train data\")\n",
        "  plt.scatter(test_data, y_pred, color='r', label=\"predicted\")\n",
        "  plt.scatter(test_data, test_val, color='g', label=\"Actual values\")\n",
        "  plt.legend();"
      ],
      "metadata": {
        "id": "c-W5LNOXvEnB"
      },
      "execution_count": null,
      "outputs": []
    },
    {
      "cell_type": "code",
      "source": [
        "plot_predictions(X_train,Y_train, X_test, Y_test, model)"
      ],
      "metadata": {
        "colab": {
          "base_uri": "https://localhost:8080/",
          "height": 428
        },
        "id": "9yOpq_OQvsga",
        "outputId": "e672d6af-d6bd-4809-e286-a5354333c06c"
      },
      "execution_count": null,
      "outputs": [
        {
          "output_type": "display_data",
          "data": {
            "text/plain": [
              "<Figure size 720x504 with 1 Axes>"
            ],
            "image/png": "[encoded data removed]"
          },
          "metadata": {
            "needs_background": "light"
          }
        }
      ]
    },
    {
      "cell_type": "code",
      "source": [
        "## Evaluating our model's predictions with regression evaluation metrics\n",
        "\n",
        "# Depending on the problem, there will be diffrent evaluation metrics\n",
        "# Since we working with regression there are two metrics:\n",
        "# - MAE - mean absolute error\n",
        "# - MSE - mean square error"
      ],
      "metadata": {
        "id": "pLZgKgo_xMch"
      },
      "execution_count": null,
      "outputs": []
    },
    {
      "cell_type": "code",
      "source": [
        "# Evaluate the model on the test set\n",
        "model.evaluate(X_test, Y_test)"
      ],
      "metadata": {
        "colab": {
          "base_uri": "https://localhost:8080/"
        },
        "id": "bs6XIt3NxU7x",
        "outputId": "5a08be67-e50c-4ec8-9ccd-f891a722d836"
      },
      "execution_count": null,
      "outputs": [
        {
          "output_type": "stream",
          "name": "stdout",
          "text": [
            "1/1 [==============================] - 0s 176ms/step - loss: 0.4169 - mae: 0.4169\n"
          ]
        },
        {
          "output_type": "execute_result",
          "data": {
            "text/plain": [
              "[0.41694870591163635, 0.41694870591163635]"
            ]
          },
          "metadata": {},
          "execution_count": 29
        }
      ]
    },
    {
      "cell_type": "code",
      "source": [
        "# Absolute error\n",
        "y_pred = model.predict(X_test)\n",
        "y_pred = tf.constant(y_pred)\n",
        "y_pred = tf.squeeze(tf.squeeze(y_pred))\n",
        "Y_test = tf.squeeze(Y_test)\n",
        "mae = tf.metrics.mean_absolute_error(Y_test, y_pred)\n",
        "mae"
      ],
      "metadata": {
        "colab": {
          "base_uri": "https://localhost:8080/"
        },
        "id": "EyczIwzGy0hR",
        "outputId": "eb9d2ff1-d6b3-4915-8176-ec89220e5b86"
      },
      "execution_count": null,
      "outputs": [
        {
          "output_type": "execute_result",
          "data": {
            "text/plain": [
              "<tf.Tensor: shape=(), dtype=float32, numpy=0.4169487>"
            ]
          },
          "metadata": {},
          "execution_count": 30
        }
      ]
    },
    {
      "cell_type": "code",
      "source": [
        "## Mean square error\n",
        "tf.metrics.mean_squared_error(Y_test, y_pred)"
      ],
      "metadata": {
        "colab": {
          "base_uri": "https://localhost:8080/"
        },
        "id": "AjveTZW88qf6",
        "outputId": "5c966f31-3dba-4b88-a7c2-db071b365bbd"
      },
      "execution_count": null,
      "outputs": [
        {
          "output_type": "execute_result",
          "data": {
            "text/plain": [
              "<tf.Tensor: shape=(), dtype=float32, numpy=0.18555167>"
            ]
          },
          "metadata": {},
          "execution_count": 31
        }
      ]
    },
    {
      "cell_type": "code",
      "source": [
        "## Make function to reuse MAE, MSE\n",
        "\n",
        "def mae_mse(y_true, y_pred):\n",
        "  y_pred_f = model.predict(X_test)\n",
        "  y_pred_f = tf.constant(y_pred)\n",
        "  y_pred_f = tf.squeeze(tf.squeeze(y_pred))\n",
        "  Y_test_f = tf.squeeze(y_true)\n",
        "  print(tf.metrics.mean_absolute_error(Y_test_f, y_pred_f))\n",
        "  print(tf.metrics.mean_squared_error(Y_test_f, y_pred_f))\n"
      ],
      "metadata": {
        "id": "T2ZjEZ809FU6"
      },
      "execution_count": null,
      "outputs": []
    },
    {
      "cell_type": "markdown",
      "source": [
        "## Running experiments to improve our model\n",
        "\n",
        "1. **model_1** - one layer, trained for 100 epochs\n",
        "2. **model_2** - two layers, trained for 100 epochs\n",
        "3. **model_3** - two layers, trained for 500 epochs "
      ],
      "metadata": {
        "id": "1seZ7IIK-qbd"
      }
    },
    {
      "cell_type": "code",
      "source": [
        "## Running experiments to improve our model\n",
        "\n",
        "## model 1 \n",
        "\n",
        "model1 = tf.keras.Sequential([\n",
        "    tf.keras.layers.Dense(1)\n",
        "])\n",
        "\n",
        "model1.compile(loss=tf.keras.losses.mse,\n",
        "               optimizer=tf.keras.optimizers.Adam(lr=0.2),\n",
        "               metrics=['mae'])\n",
        "\n",
        "model1.fit(X_train, Y_train, epochs=100, verbose=0)"
      ],
      "metadata": {
        "colab": {
          "base_uri": "https://localhost:8080/"
        },
        "id": "5vZZg5sL94Db",
        "outputId": "760af720-c4c9-4aa7-a69e-4cf35d7383f8"
      },
      "execution_count": null,
      "outputs": [
        {
          "output_type": "execute_result",
          "data": {
            "text/plain": [
              "<keras.callbacks.History at 0x7f6b54478b90>"
            ]
          },
          "metadata": {},
          "execution_count": 33
        }
      ]
    },
    {
      "cell_type": "code",
      "source": [
        "## model 2 \n",
        "\n",
        "model2 = tf.keras.Sequential([\n",
        "    tf.keras.layers.Dense(10, activation=None),\n",
        "    tf.keras.layers.Dense(1)\n",
        "])\n",
        "\n",
        "model2.compile(loss=tf.keras.losses.mse,\n",
        "               optimizer=tf.keras.optimizers.Adam(lr=0.1),\n",
        "               metrics=['mae'])\n",
        "\n",
        "model2.fit(X_train, Y_train, epochs=100, verbose=0)"
      ],
      "metadata": {
        "colab": {
          "base_uri": "https://localhost:8080/"
        },
        "id": "dsduoIRM_uCC",
        "outputId": "b0f5abf8-32a6-4150-f41e-ace9a198c96c"
      },
      "execution_count": null,
      "outputs": [
        {
          "output_type": "execute_result",
          "data": {
            "text/plain": [
              "<keras.callbacks.History at 0x7f6b541c1450>"
            ]
          },
          "metadata": {},
          "execution_count": 34
        }
      ]
    },
    {
      "cell_type": "code",
      "source": [
        "## model 3\n",
        "\n",
        "model3 = tf.keras.Sequential([\n",
        "    tf.keras.layers.Dense(10, activation=None),\n",
        "    tf.keras.layers.Dense(1)\n",
        "])\n",
        "\n",
        "model3.compile(loss=tf.keras.losses.mse,\n",
        "               optimizer=tf.keras.optimizers.Adam(lr=0.01),\n",
        "               metrics=['mae'])\n",
        "\n",
        "model3.fit(X_train, Y_train, epochs=500, verbose=0)"
      ],
      "metadata": {
        "colab": {
          "base_uri": "https://localhost:8080/"
        },
        "id": "51Iw8nwT_3aZ",
        "outputId": "44099bb6-a7b2-4ee4-fedc-dc91ef3e24ad"
      },
      "execution_count": null,
      "outputs": [
        {
          "output_type": "execute_result",
          "data": {
            "text/plain": [
              "<keras.callbacks.History at 0x7f6b540c0f10>"
            ]
          },
          "metadata": {},
          "execution_count": 35
        }
      ]
    },
    {
      "cell_type": "code",
      "source": [
        "plot_predictions(X_train, Y_train, X_test, Y_test, model1)\n",
        "plot_predictions(X_train, Y_train, X_test, Y_test, model2)\n",
        "plot_predictions(X_train, Y_train, X_test, Y_test, model3)"
      ],
      "metadata": {
        "colab": {
          "base_uri": "https://localhost:8080/",
          "height": 1000
        },
        "id": "rYSQDuOJAIw7",
        "outputId": "98c8b913-2e26-4a0b-c960-2e13924d1a9d"
      },
      "execution_count": null,
      "outputs": [
        {
          "output_type": "stream",
          "name": "stderr",
          "text": [
            "WARNING:tensorflow:6 out of the last 8 calls to <function Model.make_predict_function.<locals>.predict_function at 0x7f6b545b6170> triggered tf.function retracing. Tracing is expensive and the excessive number of tracings could be due to (1) creating @tf.function repeatedly in a loop, (2) passing tensors with different shapes, (3) passing Python objects instead of tensors. For (1), please define your @tf.function outside of the loop. For (2), @tf.function has experimental_relax_shapes=True option that relaxes argument shapes that can avoid unnecessary retracing. For (3), please refer to https://www.tensorflow.org/guide/function#controlling_retracing and https://www.tensorflow.org/api_docs/python/tf/function for  more details.\n"
          ]
        },
        {
          "output_type": "display_data",
          "data": {
            "text/plain": [
              "<Figure size 720x504 with 1 Axes>"
            ],
            "image/png": "[encoded data removed]"
          },
          "metadata": {
            "needs_background": "light"
          }
        },
        {
          "output_type": "display_data",
          "data": {
            "text/plain": [
              "<Figure size 720x504 with 1 Axes>"
            ],
            "image/png": "[encoded data removed]"
          },
          "metadata": {
            "needs_background": "light"
          }
        },
        {
          "output_type": "display_data",
          "data": {
            "text/plain": [
              "<Figure size 720x504 with 1 Axes>"
            ],
            "image/png": "[encoded data removed]"
          },
          "metadata": {
            "needs_background": "light"
          }
        }
      ]
    },
    {
      "cell_type": "code",
      "source": [
        "y_pred1 = model1.predict(X_test)\n",
        "y_pred2 = model2.predict(X_test)\n",
        "y_pred3 = model3.predict(X_test)\n",
        "print(\"Model_1:\")\n",
        "mae_mse(Y_test, y_pred1)\n",
        "print(\"Model_2:\")\n",
        "mae_mse(Y_test, y_pred2)\n",
        "print(\"Model_3:\")\n",
        "mae_mse(Y_test, y_pred3)"
      ],
      "metadata": {
        "colab": {
          "base_uri": "https://localhost:8080/"
        },
        "id": "yLyI5vkmAiQ8",
        "outputId": "5ed1fe89-917a-449a-e831-e5b740a5dc6d"
      },
      "execution_count": null,
      "outputs": [
        {
          "output_type": "stream",
          "name": "stdout",
          "text": [
            "Model_1:\n",
            "tf.Tensor(0.0008834839, shape=(), dtype=float32)\n",
            "tf.Tensor(7.820316e-07, shape=(), dtype=float32)\n",
            "Model_2:\n",
            "tf.Tensor(0.003276062, shape=(), dtype=float32)\n",
            "tf.Tensor(1.082737e-05, shape=(), dtype=float32)\n",
            "Model_3:\n",
            "tf.Tensor(0.0011230469, shape=(), dtype=float32)\n",
            "tf.Tensor(1.2660864e-06, shape=(), dtype=float32)\n"
          ]
        }
      ]
    },
    {
      "cell_type": "code",
      "source": [
        "model1.summary()\n"
      ],
      "metadata": {
        "colab": {
          "base_uri": "https://localhost:8080/"
        },
        "id": "KzKamVp22Z08",
        "outputId": "53fe717b-39ee-4178-c3ac-9dd12981d575"
      },
      "execution_count": null,
      "outputs": [
        {
          "output_type": "stream",
          "name": "stdout",
          "text": [
            "Model: \"sequential_4\"\n",
            "_________________________________________________________________\n",
            " Layer (type)                Output Shape              Param #   \n",
            "=================================================================\n",
            " dense_11 (Dense)            (None, 1)                 2         \n",
            "                                                                 \n",
            "=================================================================\n",
            "Total params: 2\n",
            "Trainable params: 2\n",
            "Non-trainable params: 0\n",
            "_________________________________________________________________\n"
          ]
        }
      ]
    },
    {
      "cell_type": "code",
      "source": [
        "model2.summary()"
      ],
      "metadata": {
        "colab": {
          "base_uri": "https://localhost:8080/"
        },
        "id": "UC5YwSnK2cX5",
        "outputId": "3c641155-1cd6-454a-c620-701469532fc2"
      },
      "execution_count": null,
      "outputs": [
        {
          "output_type": "stream",
          "name": "stdout",
          "text": [
            "Model: \"sequential_5\"\n",
            "_________________________________________________________________\n",
            " Layer (type)                Output Shape              Param #   \n",
            "=================================================================\n",
            " dense_12 (Dense)            (None, 10)                20        \n",
            "                                                                 \n",
            " dense_13 (Dense)            (None, 1)                 11        \n",
            "                                                                 \n",
            "=================================================================\n",
            "Total params: 31\n",
            "Trainable params: 31\n",
            "Non-trainable params: 0\n",
            "_________________________________________________________________\n"
          ]
        }
      ]
    },
    {
      "cell_type": "code",
      "source": [
        "model3.summary()"
      ],
      "metadata": {
        "colab": {
          "base_uri": "https://localhost:8080/"
        },
        "id": "3lGxXVdo2eic",
        "outputId": "8c15c3b8-a91b-4864-caa5-992d96e2801c"
      },
      "execution_count": null,
      "outputs": [
        {
          "output_type": "stream",
          "name": "stdout",
          "text": [
            "Model: \"sequential_6\"\n",
            "_________________________________________________________________\n",
            " Layer (type)                Output Shape              Param #   \n",
            "=================================================================\n",
            " dense_14 (Dense)            (None, 10)                20        \n",
            "                                                                 \n",
            " dense_15 (Dense)            (None, 1)                 11        \n",
            "                                                                 \n",
            "=================================================================\n",
            "Total params: 31\n",
            "Trainable params: 31\n",
            "Non-trainable params: 0\n",
            "_________________________________________________________________\n"
          ]
        }
      ]
    },
    {
      "cell_type": "markdown",
      "source": [
        "### Saving our models allows us to use models outside collab"
      ],
      "metadata": {
        "id": "0iNCShFc3G43"
      }
    },
    {
      "cell_type": "markdown",
      "source": [
        "## Two main save format:\n",
        "- The SaveModel format\n",
        "- The HDF5 format"
      ],
      "metadata": {
        "id": "qBtOWhe13hFk"
      }
    },
    {
      "cell_type": "code",
      "source": [
        "model3.save(\"best_model_regression\")"
      ],
      "metadata": {
        "id": "DdyBTe7y2mwV"
      },
      "execution_count": null,
      "outputs": []
    },
    {
      "cell_type": "code",
      "source": [
        "model3.save(\"model_regression.h5\")"
      ],
      "metadata": {
        "id": "CraImJn44Bxj"
      },
      "execution_count": null,
      "outputs": []
    },
    {
      "cell_type": "code",
      "source": [
        "## Loading a saved model\n",
        "\n",
        "new_model = tf.keras.models.load_model(\"model_regression.h5\")"
      ],
      "metadata": {
        "id": "d-FKpFjJ4Luz"
      },
      "execution_count": null,
      "outputs": []
    },
    {
      "cell_type": "code",
      "source": [
        "## Compare two models saved and existing \n",
        "\n",
        "model_save_p = new_model.predict(X_test)\n",
        "model_3_p = model3.predict(X_test)\n",
        "\n",
        "model_save_p, model_3_p"
      ],
      "metadata": {
        "colab": {
          "base_uri": "https://localhost:8080/"
        },
        "id": "wiKS_Qrv5JcM",
        "outputId": "b874443d-2f3a-49a0-98e9-399ff1a38b0e"
      },
      "execution_count": null,
      "outputs": [
        {
          "output_type": "execute_result",
          "data": {
            "text/plain": [
              "(array([[ 69.998985],\n",
              "        [ 73.99896 ],\n",
              "        [ 77.99894 ],\n",
              "        [ 81.99891 ],\n",
              "        [ 85.99889 ],\n",
              "        [ 89.99886 ],\n",
              "        [ 93.99884 ],\n",
              "        [ 97.99882 ],\n",
              "        [101.99879 ],\n",
              "        [105.99877 ]], dtype=float32), array([[ 69.998985],\n",
              "        [ 73.99896 ],\n",
              "        [ 77.99894 ],\n",
              "        [ 81.99891 ],\n",
              "        [ 85.99889 ],\n",
              "        [ 89.99886 ],\n",
              "        [ 93.99884 ],\n",
              "        [ 97.99882 ],\n",
              "        [101.99879 ],\n",
              "        [105.99877 ]], dtype=float32))"
            ]
          },
          "metadata": {},
          "execution_count": 44
        }
      ]
    },
    {
      "cell_type": "code",
      "source": [
        "## Import libraries\n",
        "\n",
        "import tensorflow as tf\n",
        "import pandas as pd\n",
        "import matplotlib.pyplot as plt\n",
        "\n",
        "insurance = pd.read_csv(\"https://raw.githubusercontent.com/stedy/Machine-Learning-with-R-datasets/master/insurance.csv\")"
      ],
      "metadata": {
        "id": "tiCeBHjK56VV"
      },
      "execution_count": null,
      "outputs": []
    },
    {
      "cell_type": "code",
      "source": [
        "insurance"
      ],
      "metadata": {
        "colab": {
          "base_uri": "https://localhost:8080/",
          "height": 424
        },
        "id": "eJ-geU2Q9k4j",
        "outputId": "397af8e3-736b-444b-d932-519341d54861"
      },
      "execution_count": null,
      "outputs": [
        {
          "output_type": "execute_result",
          "data": {
            "text/plain": [
              "      age     sex     bmi  children smoker     region      charges\n",
              "0      19  female  27.900         0    yes  southwest  16884.92400\n",
              "1      18    male  33.770         1     no  southeast   1725.55230\n",
              "2      28    male  33.000         3     no  southeast   4449.46200\n",
              "3      33    male  22.705         0     no  northwest  21984.47061\n",
              "4      32    male  28.880         0     no  northwest   3866.85520\n",
              "...   ...     ...     ...       ...    ...        ...          ...\n",
              "1333   50    male  30.970         3     no  northwest  10600.54830\n",
              "1334   18  female  31.920         0     no  northeast   2205.98080\n",
              "1335   18  female  36.850         0     no  southeast   1629.83350\n",
              "1336   21  female  25.800         0     no  southwest   2007.94500\n",
              "1337   61  female  29.070         0    yes  northwest  29141.36030\n",
              "\n",
              "[1338 rows x 7 columns]"
            ],
            "text/html": [
              "\n",
              "  <div id=\"df-66890cfe-6a6e-4f98-bc1d-5b5872434cf0\">\n",
              "    <div class=\"colab-df-container\">\n",
              "      <div>\n",
              "<style scoped>\n",
              "    .dataframe tbody tr th:only-of-type {\n",
              "        vertical-align: middle;\n",
              "    }\n",
              "\n",
              "    .dataframe tbody tr th {\n",
              "        vertical-align: top;\n",
              "    }\n",
              "\n",
              "    .dataframe thead th {\n",
              "        text-align: right;\n",
              "    }\n",
              "</style>\n",
              "<table border=\"1\" class=\"dataframe\">\n",
              "  <thead>\n",
              "    <tr style=\"text-align: right;\">\n",
              "      <th></th>\n",
              "      <th>age</th>\n",
              "      <th>sex</th>\n",
              "      <th>bmi</th>\n",
              "      <th>children</th>\n",
              "      <th>smoker</th>\n",
              "      <th>region</th>\n",
              "      <th>charges</th>\n",
              "    </tr>\n",
              "  </thead>\n",
              "  <tbody>\n",
              "    <tr>\n",
              "      <th>0</th>\n",
              "      <td>19</td>\n",
              "      <td>female</td>\n",
              "      <td>27.900</td>\n",
              "      <td>0</td>\n",
              "      <td>yes</td>\n",
              "      <td>southwest</td>\n",
              "      <td>16884.92400</td>\n",
              "    </tr>\n",
              "    <tr>\n",
              "      <th>1</th>\n",
              "      <td>18</td>\n",
              "      <td>male</td>\n",
              "      <td>33.770</td>\n",
              "      <td>1</td>\n",
              "      <td>no</td>\n",
              "      <td>southeast</td>\n",
              "      <td>1725.55230</td>\n",
              "    </tr>\n",
              "    <tr>\n",
              "      <th>2</th>\n",
              "      <td>28</td>\n",
              "      <td>male</td>\n",
              "      <td>33.000</td>\n",
              "      <td>3</td>\n",
              "      <td>no</td>\n",
              "      <td>southeast</td>\n",
              "      <td>4449.46200</td>\n",
              "    </tr>\n",
              "    <tr>\n",
              "      <th>3</th>\n",
              "      <td>33</td>\n",
              "      <td>male</td>\n",
              "      <td>22.705</td>\n",
              "      <td>0</td>\n",
              "      <td>no</td>\n",
              "      <td>northwest</td>\n",
              "      <td>21984.47061</td>\n",
              "    </tr>\n",
              "    <tr>\n",
              "      <th>4</th>\n",
              "      <td>32</td>\n",
              "      <td>male</td>\n",
              "      <td>28.880</td>\n",
              "      <td>0</td>\n",
              "      <td>no</td>\n",
              "      <td>northwest</td>\n",
              "      <td>3866.85520</td>\n",
              "    </tr>\n",
              "    <tr>\n",
              "      <th>...</th>\n",
              "      <td>...</td>\n",
              "      <td>...</td>\n",
              "      <td>...</td>\n",
              "      <td>...</td>\n",
              "      <td>...</td>\n",
              "      <td>...</td>\n",
              "      <td>...</td>\n",
              "    </tr>\n",
              "    <tr>\n",
              "      <th>1333</th>\n",
              "      <td>50</td>\n",
              "      <td>male</td>\n",
              "      <td>30.970</td>\n",
              "      <td>3</td>\n",
              "      <td>no</td>\n",
              "      <td>northwest</td>\n",
              "      <td>10600.54830</td>\n",
              "    </tr>\n",
              "    <tr>\n",
              "      <th>1334</th>\n",
              "      <td>18</td>\n",
              "      <td>female</td>\n",
              "      <td>31.920</td>\n",
              "      <td>0</td>\n",
              "      <td>no</td>\n",
              "      <td>northeast</td>\n",
              "      <td>2205.98080</td>\n",
              "    </tr>\n",
              "    <tr>\n",
              "      <th>1335</th>\n",
              "      <td>18</td>\n",
              "      <td>female</td>\n",
              "      <td>36.850</td>\n",
              "      <td>0</td>\n",
              "      <td>no</td>\n",
              "      <td>southeast</td>\n",
              "      <td>1629.83350</td>\n",
              "    </tr>\n",
              "    <tr>\n",
              "      <th>1336</th>\n",
              "      <td>21</td>\n",
              "      <td>female</td>\n",
              "      <td>25.800</td>\n",
              "      <td>0</td>\n",
              "      <td>no</td>\n",
              "      <td>southwest</td>\n",
              "      <td>2007.94500</td>\n",
              "    </tr>\n",
              "    <tr>\n",
              "      <th>1337</th>\n",
              "      <td>61</td>\n",
              "      <td>female</td>\n",
              "      <td>29.070</td>\n",
              "      <td>0</td>\n",
              "      <td>yes</td>\n",
              "      <td>northwest</td>\n",
              "      <td>29141.36030</td>\n",
              "    </tr>\n",
              "  </tbody>\n",
              "</table>\n",
              "<p>1338 rows × 7 columns</p>\n",
              "</div>\n",
              "      <button class=\"colab-df-convert\" onclick=\"convertToInteractive('df-66890cfe-6a6e-4f98-bc1d-5b5872434cf0')\"\n",
              "              title=\"Convert this dataframe to an interactive table.\"\n",
              "              style=\"display:none;\">\n",
              "        \n",
              "  <svg xmlns=\"http://www.w3.org/2000/svg\" height=\"24px\"viewBox=\"0 0 24 24\"\n",
              "       width=\"24px\">\n",
              "    <path d=\"M0 0h24v24H0V0z\" fill=\"none\"/>\n",
              "    <path d=\"M18.56 5.44l.94 2.06.94-2.06 2.06-.94-2.06-.94-.94-2.06-.94 2.06-2.06.94zm-11 1L8.5 8.5l.94-2.06 2.06-.94-2.06-.94L8.5 2.5l-.94 2.06-2.06.94zm10 10l.94 2.06.94-2.06 2.06-.94-2.06-.94-.94-2.06-.94 2.06-2.06.94z\"/><path d=\"M17.41 7.96l-1.37-1.37c-.4-.4-.92-.59-1.43-.59-.52 0-1.04.2-1.43.59L10.3 9.45l-7.72 7.72c-.78.78-.78 2.05 0 2.83L4 21.41c.39.39.9.59 1.41.59.51 0 1.02-.2 1.41-.59l7.78-7.78 2.81-2.81c.8-.78.8-2.07 0-2.86zM5.41 20L4 18.59l7.72-7.72 1.47 1.35L5.41 20z\"/>\n",
              "  </svg>\n",
              "      </button>\n",
              "      \n",
              "  <style>\n",
              "    .colab-df-container {\n",
              "      display:flex;\n",
              "      flex-wrap:wrap;\n",
              "      gap: 12px;\n",
              "    }\n",
              "\n",
              "    .colab-df-convert {\n",
              "      background-color: #E8F0FE;\n",
              "      border: none;\n",
              "      border-radius: 50%;\n",
              "      cursor: pointer;\n",
              "      display: none;\n",
              "      fill: #1967D2;\n",
              "      height: 32px;\n",
              "      padding: 0 0 0 0;\n",
              "      width: 32px;\n",
              "    }\n",
              "\n",
              "    .colab-df-convert:hover {\n",
              "      background-color: #E2EBFA;\n",
              "      box-shadow: 0px 1px 2px rgba(60, 64, 67, 0.3), 0px 1px 3px 1px rgba(60, 64, 67, 0.15);\n",
              "      fill: #174EA6;\n",
              "    }\n",
              "\n",
              "    [theme=dark] .colab-df-convert {\n",
              "      background-color: #3B4455;\n",
              "      fill: #D2E3FC;\n",
              "    }\n",
              "\n",
              "    [theme=dark] .colab-df-convert:hover {\n",
              "      background-color: #434B5C;\n",
              "      box-shadow: 0px 1px 3px 1px rgba(0, 0, 0, 0.15);\n",
              "      filter: drop-shadow(0px 1px 2px rgba(0, 0, 0, 0.3));\n",
              "      fill: #FFFFFF;\n",
              "    }\n",
              "  </style>\n",
              "\n",
              "      <script>\n",
              "        const buttonEl =\n",
              "          document.querySelector('#df-66890cfe-6a6e-4f98-bc1d-5b5872434cf0 button.colab-df-convert');\n",
              "        buttonEl.style.display =\n",
              "          google.colab.kernel.accessAllowed ? 'block' : 'none';\n",
              "\n",
              "        async function convertToInteractive(key) {\n",
              "          const element = document.querySelector('#df-66890cfe-6a6e-4f98-bc1d-5b5872434cf0');\n",
              "          const dataTable =\n",
              "            await google.colab.kernel.invokeFunction('convertToInteractive',\n",
              "                                                     [key], {});\n",
              "          if (!dataTable) return;\n",
              "\n",
              "          const docLinkHtml = 'Like what you see? Visit the ' +\n",
              "            '<a target=\"_blank\" href=https://colab.research.google.com/notebooks/data_table.ipynb>data table notebook</a>'\n",
              "            + ' to learn more about interactive tables.';\n",
              "          element.innerHTML = '';\n",
              "          dataTable['output_type'] = 'display_data';\n",
              "          await google.colab.output.renderOutput(dataTable, element);\n",
              "          const docLink = document.createElement('div');\n",
              "          docLink.innerHTML = docLinkHtml;\n",
              "          element.appendChild(docLink);\n",
              "        }\n",
              "      </script>\n",
              "    </div>\n",
              "  </div>\n",
              "  "
            ]
          },
          "metadata": {},
          "execution_count": 46
        }
      ]
    },
    {
      "cell_type": "code",
      "source": [
        "## get_dummies\n",
        "## One hot encode\n",
        "insurance_one_hot = pd.get_dummies(insurance)"
      ],
      "metadata": {
        "id": "urQVZJxY-BBk"
      },
      "execution_count": null,
      "outputs": []
    },
    {
      "cell_type": "code",
      "source": [
        "# Create X & Y values (features and labels)\n",
        "x = insurance_one_hot.drop(\"charges\", axis=1)\n",
        "y = insurance_one_hot[\"charges\"]"
      ],
      "metadata": {
        "id": "vcEV6dEH_a9G"
      },
      "execution_count": null,
      "outputs": []
    },
    {
      "cell_type": "code",
      "source": [
        "# Create traning and test sets\n",
        "## sklearn.model_selection.train_test_split\n",
        "\n",
        "from sklearn.model_selection import train_test_split\n",
        "\n",
        "x_train, x_test, y_train, y_test = train_test_split(x,y, test_size=0.2, random_state=42)"
      ],
      "metadata": {
        "id": "N6RjMtkI_2wE"
      },
      "execution_count": null,
      "outputs": []
    },
    {
      "cell_type": "code",
      "source": [
        "## Build a neural network \n",
        "tf.random.set_seed(42)\n",
        "\n",
        "# Create a model \n",
        "insurance_model = tf.keras.Sequential([\n",
        "    tf.keras.layers.Dense(100, activation=\"relu\"),\n",
        "    tf.keras.layers.Dense(100, activation=\"relu\"),\n",
        "    tf.keras.layers.Dense(10),\n",
        "    tf.keras.layers.Dense(1)\n",
        "])\n",
        "\n",
        "# Compile\n",
        "insurance_model.compile(loss=tf.keras.losses.mae,\n",
        "                        optimizer=tf.keras.optimizers.Adam(lr=0.001),\n",
        "                        metrics=[\"mae\"])\n",
        "\n",
        "history = insurance_model.fit(x_train, y_train, epochs=200, verbose=1)"
      ],
      "metadata": {
        "colab": {
          "base_uri": "https://localhost:8080/"
        },
        "id": "a2CsICf3ApgV",
        "outputId": "8599832f-9bc7-408f-b1d6-7340c2d8a8c9"
      },
      "execution_count": null,
      "outputs": [
        {
          "output_type": "stream",
          "name": "stdout",
          "text": [
            "Epoch 1/200\n"
          ]
        },
        {
          "output_type": "stream",
          "name": "stderr",
          "text": [
            "/usr/local/lib/python3.7/dist-packages/keras/optimizer_v2/adam.py:105: UserWarning: The `lr` argument is deprecated, use `learning_rate` instead.\n",
            "  super(Adam, self).__init__(name, **kwargs)\n"
          ]
        },
        {
          "output_type": "stream",
          "name": "stdout",
          "text": [
            "34/34 [==============================] - 0s 3ms/step - loss: 13312.1797 - mae: 13312.1797\n",
            "Epoch 2/200\n",
            "34/34 [==============================] - 0s 3ms/step - loss: 13062.8252 - mae: 13062.8252\n",
            "Epoch 3/200\n",
            "34/34 [==============================] - 0s 3ms/step - loss: 11861.4961 - mae: 11861.4961\n",
            "Epoch 4/200\n",
            "34/34 [==============================] - 0s 3ms/step - loss: 8771.3916 - mae: 8771.3916\n",
            "Epoch 5/200\n",
            "34/34 [==============================] - 0s 3ms/step - loss: 7458.3013 - mae: 7458.3013\n",
            "Epoch 6/200\n",
            "34/34 [==============================] - 0s 3ms/step - loss: 7412.3350 - mae: 7412.3350\n",
            "Epoch 7/200\n",
            "34/34 [==============================] - 0s 3ms/step - loss: 7352.3696 - mae: 7352.3696\n",
            "Epoch 8/200\n",
            "34/34 [==============================] - 0s 3ms/step - loss: 7309.3511 - mae: 7309.3511\n",
            "Epoch 9/200\n",
            "34/34 [==============================] - 0s 3ms/step - loss: 7266.0767 - mae: 7266.0767\n",
            "Epoch 10/200\n",
            "34/34 [==============================] - 0s 3ms/step - loss: 7223.5576 - mae: 7223.5576\n",
            "Epoch 11/200\n",
            "34/34 [==============================] - 0s 3ms/step - loss: 7184.2441 - mae: 7184.2441\n",
            "Epoch 12/200\n",
            "34/34 [==============================] - 0s 3ms/step - loss: 7129.4077 - mae: 7129.4077\n",
            "Epoch 13/200\n",
            "34/34 [==============================] - 0s 3ms/step - loss: 7076.9956 - mae: 7076.9956\n",
            "Epoch 14/200\n",
            "34/34 [==============================] - 0s 3ms/step - loss: 7023.0830 - mae: 7023.0830\n",
            "Epoch 15/200\n",
            "34/34 [==============================] - 0s 3ms/step - loss: 6975.2163 - mae: 6975.2163\n",
            "Epoch 16/200\n",
            "34/34 [==============================] - 0s 3ms/step - loss: 6912.2334 - mae: 6912.2334\n",
            "Epoch 17/200\n",
            "34/34 [==============================] - 0s 3ms/step - loss: 6861.5195 - mae: 6861.5195\n",
            "Epoch 18/200\n",
            "34/34 [==============================] - 0s 3ms/step - loss: 6796.1685 - mae: 6796.1685\n",
            "Epoch 19/200\n",
            "34/34 [==============================] - 0s 3ms/step - loss: 6731.2993 - mae: 6731.2993\n",
            "Epoch 20/200\n",
            "34/34 [==============================] - 0s 3ms/step - loss: 6671.8540 - mae: 6671.8540\n",
            "Epoch 21/200\n",
            "34/34 [==============================] - 0s 3ms/step - loss: 6615.2280 - mae: 6615.2280\n",
            "Epoch 22/200\n",
            "34/34 [==============================] - 0s 3ms/step - loss: 6575.0815 - mae: 6575.0815\n",
            "Epoch 23/200\n",
            "34/34 [==============================] - 0s 3ms/step - loss: 6526.2417 - mae: 6526.2417\n",
            "Epoch 24/200\n",
            "34/34 [==============================] - 0s 3ms/step - loss: 6491.8989 - mae: 6491.8989\n",
            "Epoch 25/200\n",
            "34/34 [==============================] - 0s 3ms/step - loss: 6460.9517 - mae: 6460.9517\n",
            "Epoch 26/200\n",
            "34/34 [==============================] - 0s 3ms/step - loss: 6436.5288 - mae: 6436.5288\n",
            "Epoch 27/200\n",
            "34/34 [==============================] - 0s 3ms/step - loss: 6409.0347 - mae: 6409.0347\n",
            "Epoch 28/200\n",
            "34/34 [==============================] - 0s 3ms/step - loss: 6374.6689 - mae: 6374.6689\n",
            "Epoch 29/200\n",
            "34/34 [==============================] - 0s 3ms/step - loss: 6350.3335 - mae: 6350.3335\n",
            "Epoch 30/200\n",
            "34/34 [==============================] - 0s 3ms/step - loss: 6326.2271 - mae: 6326.2271\n",
            "Epoch 31/200\n",
            "34/34 [==============================] - 0s 3ms/step - loss: 6292.9287 - mae: 6292.9287\n",
            "Epoch 32/200\n",
            "34/34 [==============================] - 0s 3ms/step - loss: 6257.0630 - mae: 6257.0630\n",
            "Epoch 33/200\n",
            "34/34 [==============================] - 0s 3ms/step - loss: 6221.5469 - mae: 6221.5469\n",
            "Epoch 34/200\n",
            "34/34 [==============================] - 0s 3ms/step - loss: 6193.3955 - mae: 6193.3955\n",
            "Epoch 35/200\n",
            "34/34 [==============================] - 0s 3ms/step - loss: 6143.5034 - mae: 6143.5034\n",
            "Epoch 36/200\n",
            "34/34 [==============================] - 0s 3ms/step - loss: 6105.4404 - mae: 6105.4404\n",
            "Epoch 37/200\n",
            "34/34 [==============================] - 0s 3ms/step - loss: 6066.4990 - mae: 6066.4990\n",
            "Epoch 38/200\n",
            "34/34 [==============================] - 0s 3ms/step - loss: 6009.9448 - mae: 6009.9448\n",
            "Epoch 39/200\n",
            "34/34 [==============================] - 0s 3ms/step - loss: 5965.7881 - mae: 5965.7881\n",
            "Epoch 40/200\n",
            "34/34 [==============================] - 0s 3ms/step - loss: 5888.8857 - mae: 5888.8857\n",
            "Epoch 41/200\n",
            "34/34 [==============================] - 0s 3ms/step - loss: 5822.7227 - mae: 5822.7227\n",
            "Epoch 42/200\n",
            "34/34 [==============================] - 0s 3ms/step - loss: 5747.0796 - mae: 5747.0796\n",
            "Epoch 43/200\n",
            "34/34 [==============================] - 0s 3ms/step - loss: 5667.7075 - mae: 5667.7075\n",
            "Epoch 44/200\n",
            "34/34 [==============================] - 0s 3ms/step - loss: 5557.5010 - mae: 5557.5010\n",
            "Epoch 45/200\n",
            "34/34 [==============================] - 0s 3ms/step - loss: 5457.3311 - mae: 5457.3311\n",
            "Epoch 46/200\n",
            "34/34 [==============================] - 0s 3ms/step - loss: 5348.2075 - mae: 5348.2075\n",
            "Epoch 47/200\n",
            "34/34 [==============================] - 0s 3ms/step - loss: 5194.5933 - mae: 5194.5933\n",
            "Epoch 48/200\n",
            "34/34 [==============================] - 0s 3ms/step - loss: 5058.2871 - mae: 5058.2871\n",
            "Epoch 49/200\n",
            "34/34 [==============================] - 0s 3ms/step - loss: 4847.0347 - mae: 4847.0347\n",
            "Epoch 50/200\n",
            "34/34 [==============================] - 0s 3ms/step - loss: 4624.2729 - mae: 4624.2729\n",
            "Epoch 51/200\n",
            "34/34 [==============================] - 0s 3ms/step - loss: 4424.7466 - mae: 4424.7466\n",
            "Epoch 52/200\n",
            "34/34 [==============================] - 0s 3ms/step - loss: 4190.1089 - mae: 4190.1089\n",
            "Epoch 53/200\n",
            "34/34 [==============================] - 0s 3ms/step - loss: 3952.8958 - mae: 3952.8958\n",
            "Epoch 54/200\n",
            "34/34 [==============================] - 0s 3ms/step - loss: 3804.3569 - mae: 3804.3569\n",
            "Epoch 55/200\n",
            "34/34 [==============================] - 0s 3ms/step - loss: 3695.2200 - mae: 3695.2200\n",
            "Epoch 56/200\n",
            "34/34 [==============================] - 0s 3ms/step - loss: 3633.1897 - mae: 3633.1897\n",
            "Epoch 57/200\n",
            "34/34 [==============================] - 0s 3ms/step - loss: 3587.0742 - mae: 3587.0742\n",
            "Epoch 58/200\n",
            "34/34 [==============================] - 0s 3ms/step - loss: 3555.0056 - mae: 3555.0056\n",
            "Epoch 59/200\n",
            "34/34 [==============================] - 0s 3ms/step - loss: 3500.9163 - mae: 3500.9163\n",
            "Epoch 60/200\n",
            "34/34 [==============================] - 0s 3ms/step - loss: 3474.6653 - mae: 3474.6653\n",
            "Epoch 61/200\n",
            "34/34 [==============================] - 0s 3ms/step - loss: 3458.7708 - mae: 3458.7708\n",
            "Epoch 62/200\n",
            "34/34 [==============================] - 0s 3ms/step - loss: 3439.3730 - mae: 3439.3730\n",
            "Epoch 63/200\n",
            "34/34 [==============================] - 0s 3ms/step - loss: 3407.0557 - mae: 3407.0557\n",
            "Epoch 64/200\n",
            "34/34 [==============================] - 0s 3ms/step - loss: 3386.1292 - mae: 3386.1292\n",
            "Epoch 65/200\n",
            "34/34 [==============================] - 0s 3ms/step - loss: 3379.1455 - mae: 3379.1455\n",
            "Epoch 66/200\n",
            "34/34 [==============================] - 0s 3ms/step - loss: 3350.9253 - mae: 3350.9253\n",
            "Epoch 67/200\n",
            "34/34 [==============================] - 0s 3ms/step - loss: 3315.7402 - mae: 3315.7402\n",
            "Epoch 68/200\n",
            "34/34 [==============================] - 0s 3ms/step - loss: 3311.9578 - mae: 3311.9578\n",
            "Epoch 69/200\n",
            "34/34 [==============================] - 0s 3ms/step - loss: 3278.8953 - mae: 3278.8953\n",
            "Epoch 70/200\n",
            "34/34 [==============================] - 0s 3ms/step - loss: 3266.9016 - mae: 3266.9016\n",
            "Epoch 71/200\n",
            "34/34 [==============================] - 0s 3ms/step - loss: 3234.1824 - mae: 3234.1824\n",
            "Epoch 72/200\n",
            "34/34 [==============================] - 0s 3ms/step - loss: 3212.4807 - mae: 3212.4807\n",
            "Epoch 73/200\n",
            "34/34 [==============================] - 0s 3ms/step - loss: 3183.6609 - mae: 3183.6609\n",
            "Epoch 74/200\n",
            "34/34 [==============================] - 0s 3ms/step - loss: 3167.5608 - mae: 3167.5608\n",
            "Epoch 75/200\n",
            "34/34 [==============================] - 0s 3ms/step - loss: 3138.5146 - mae: 3138.5146\n",
            "Epoch 76/200\n",
            "34/34 [==============================] - 0s 3ms/step - loss: 3106.4365 - mae: 3106.4365\n",
            "Epoch 77/200\n",
            "34/34 [==============================] - 0s 3ms/step - loss: 3072.1877 - mae: 3072.1877\n",
            "Epoch 78/200\n",
            "34/34 [==============================] - 0s 3ms/step - loss: 3089.1736 - mae: 3089.1736\n",
            "Epoch 79/200\n",
            "34/34 [==============================] - 0s 3ms/step - loss: 3041.4863 - mae: 3041.4863\n",
            "Epoch 80/200\n",
            "34/34 [==============================] - 0s 3ms/step - loss: 3020.4072 - mae: 3020.4072\n",
            "Epoch 81/200\n",
            "34/34 [==============================] - 0s 3ms/step - loss: 2979.6589 - mae: 2979.6589\n",
            "Epoch 82/200\n",
            "34/34 [==============================] - 0s 3ms/step - loss: 2956.8379 - mae: 2956.8379\n",
            "Epoch 83/200\n",
            "34/34 [==============================] - 0s 3ms/step - loss: 2904.8828 - mae: 2904.8828\n",
            "Epoch 84/200\n",
            "34/34 [==============================] - 0s 3ms/step - loss: 2863.7241 - mae: 2863.7241\n",
            "Epoch 85/200\n",
            "34/34 [==============================] - 0s 3ms/step - loss: 2834.2207 - mae: 2834.2207\n",
            "Epoch 86/200\n",
            "34/34 [==============================] - 0s 3ms/step - loss: 2810.0156 - mae: 2810.0156\n",
            "Epoch 87/200\n",
            "34/34 [==============================] - 0s 3ms/step - loss: 2864.1699 - mae: 2864.1699\n",
            "Epoch 88/200\n",
            "34/34 [==============================] - 0s 3ms/step - loss: 2800.6375 - mae: 2800.6375\n",
            "Epoch 89/200\n",
            "34/34 [==============================] - 0s 3ms/step - loss: 2793.9202 - mae: 2793.9202\n",
            "Epoch 90/200\n",
            "34/34 [==============================] - 0s 3ms/step - loss: 2782.2864 - mae: 2782.2864\n",
            "Epoch 91/200\n",
            "34/34 [==============================] - 0s 3ms/step - loss: 2772.1313 - mae: 2772.1313\n",
            "Epoch 92/200\n",
            "34/34 [==============================] - 0s 3ms/step - loss: 2770.6404 - mae: 2770.6404\n",
            "Epoch 93/200\n",
            "34/34 [==============================] - 0s 3ms/step - loss: 2764.1045 - mae: 2764.1045\n",
            "Epoch 94/200\n",
            "34/34 [==============================] - 0s 3ms/step - loss: 2746.9114 - mae: 2746.9114\n",
            "Epoch 95/200\n",
            "34/34 [==============================] - 0s 3ms/step - loss: 2738.5669 - mae: 2738.5669\n",
            "Epoch 96/200\n",
            "34/34 [==============================] - 0s 3ms/step - loss: 2727.2651 - mae: 2727.2651\n",
            "Epoch 97/200\n",
            "34/34 [==============================] - 0s 3ms/step - loss: 2748.2302 - mae: 2748.2302\n",
            "Epoch 98/200\n",
            "34/34 [==============================] - 0s 3ms/step - loss: 2731.5688 - mae: 2731.5688\n",
            "Epoch 99/200\n",
            "34/34 [==============================] - 0s 3ms/step - loss: 2719.2163 - mae: 2719.2163\n",
            "Epoch 100/200\n",
            "34/34 [==============================] - 0s 3ms/step - loss: 2708.9329 - mae: 2708.9329\n",
            "Epoch 101/200\n",
            "34/34 [==============================] - 0s 3ms/step - loss: 2697.4702 - mae: 2697.4702\n",
            "Epoch 102/200\n",
            "34/34 [==============================] - 0s 3ms/step - loss: 2695.3521 - mae: 2695.3521\n",
            "Epoch 103/200\n",
            "34/34 [==============================] - 0s 3ms/step - loss: 2689.5007 - mae: 2689.5007\n",
            "Epoch 104/200\n",
            "34/34 [==============================] - 0s 3ms/step - loss: 2674.2148 - mae: 2674.2148\n",
            "Epoch 105/200\n",
            "34/34 [==============================] - 0s 3ms/step - loss: 2698.2346 - mae: 2698.2346\n",
            "Epoch 106/200\n",
            "34/34 [==============================] - 0s 3ms/step - loss: 2666.1162 - mae: 2666.1162\n",
            "Epoch 107/200\n",
            "34/34 [==============================] - 0s 4ms/step - loss: 2658.1438 - mae: 2658.1438\n",
            "Epoch 108/200\n",
            "34/34 [==============================] - 0s 3ms/step - loss: 2660.3630 - mae: 2660.3630\n",
            "Epoch 109/200\n",
            "34/34 [==============================] - 0s 3ms/step - loss: 2650.3730 - mae: 2650.3730\n",
            "Epoch 110/200\n",
            "34/34 [==============================] - 0s 3ms/step - loss: 2660.1670 - mae: 2660.1670\n",
            "Epoch 111/200\n",
            "34/34 [==============================] - 0s 3ms/step - loss: 2630.4988 - mae: 2630.4988\n",
            "Epoch 112/200\n",
            "34/34 [==============================] - 0s 3ms/step - loss: 2638.5618 - mae: 2638.5618\n",
            "Epoch 113/200\n",
            "34/34 [==============================] - 0s 3ms/step - loss: 2623.8398 - mae: 2623.8398\n",
            "Epoch 114/200\n",
            "34/34 [==============================] - 0s 3ms/step - loss: 2625.4478 - mae: 2625.4478\n",
            "Epoch 115/200\n",
            "34/34 [==============================] - 0s 3ms/step - loss: 2624.4805 - mae: 2624.4805\n",
            "Epoch 116/200\n",
            "34/34 [==============================] - 0s 3ms/step - loss: 2611.7905 - mae: 2611.7905\n",
            "Epoch 117/200\n",
            "34/34 [==============================] - 0s 3ms/step - loss: 2599.4060 - mae: 2599.4060\n",
            "Epoch 118/200\n",
            "34/34 [==============================] - 0s 3ms/step - loss: 2605.7864 - mae: 2605.7864\n",
            "Epoch 119/200\n",
            "34/34 [==============================] - 0s 3ms/step - loss: 2591.8801 - mae: 2591.8801\n",
            "Epoch 120/200\n",
            "34/34 [==============================] - 0s 3ms/step - loss: 2592.0647 - mae: 2592.0647\n",
            "Epoch 121/200\n",
            "34/34 [==============================] - 0s 3ms/step - loss: 2584.4001 - mae: 2584.4001\n",
            "Epoch 122/200\n",
            "34/34 [==============================] - 0s 3ms/step - loss: 2572.8960 - mae: 2572.8960\n",
            "Epoch 123/200\n",
            "34/34 [==============================] - 0s 3ms/step - loss: 2583.7161 - mae: 2583.7161\n",
            "Epoch 124/200\n",
            "34/34 [==============================] - 0s 3ms/step - loss: 2569.4749 - mae: 2569.4749\n",
            "Epoch 125/200\n",
            "34/34 [==============================] - 0s 3ms/step - loss: 2564.0981 - mae: 2564.0981\n",
            "Epoch 126/200\n",
            "34/34 [==============================] - 0s 3ms/step - loss: 2602.0891 - mae: 2602.0891\n",
            "Epoch 127/200\n",
            "34/34 [==============================] - 0s 3ms/step - loss: 2551.4114 - mae: 2551.4114\n",
            "Epoch 128/200\n",
            "34/34 [==============================] - 0s 3ms/step - loss: 2542.5061 - mae: 2542.5061\n",
            "Epoch 129/200\n",
            "34/34 [==============================] - 0s 3ms/step - loss: 2550.7185 - mae: 2550.7185\n",
            "Epoch 130/200\n",
            "34/34 [==============================] - 0s 3ms/step - loss: 2535.4944 - mae: 2535.4944\n",
            "Epoch 131/200\n",
            "34/34 [==============================] - 0s 3ms/step - loss: 2522.0369 - mae: 2522.0369\n",
            "Epoch 132/200\n",
            "34/34 [==============================] - 0s 3ms/step - loss: 2524.2124 - mae: 2524.2124\n",
            "Epoch 133/200\n",
            "34/34 [==============================] - 0s 3ms/step - loss: 2517.6836 - mae: 2517.6836\n",
            "Epoch 134/200\n",
            "34/34 [==============================] - 0s 3ms/step - loss: 2503.7002 - mae: 2503.7002\n",
            "Epoch 135/200\n",
            "34/34 [==============================] - 0s 3ms/step - loss: 2494.9204 - mae: 2494.9204\n",
            "Epoch 136/200\n",
            "34/34 [==============================] - 0s 3ms/step - loss: 2490.6057 - mae: 2490.6057\n",
            "Epoch 137/200\n",
            "34/34 [==============================] - 0s 3ms/step - loss: 2506.0896 - mae: 2506.0896\n",
            "Epoch 138/200\n",
            "34/34 [==============================] - 0s 3ms/step - loss: 2513.1575 - mae: 2513.1575\n",
            "Epoch 139/200\n",
            "34/34 [==============================] - 0s 3ms/step - loss: 2487.4758 - mae: 2487.4758\n",
            "Epoch 140/200\n",
            "34/34 [==============================] - 0s 3ms/step - loss: 2495.4988 - mae: 2495.4988\n",
            "Epoch 141/200\n",
            "34/34 [==============================] - 0s 3ms/step - loss: 2469.3855 - mae: 2469.3855\n",
            "Epoch 142/200\n",
            "34/34 [==============================] - 0s 3ms/step - loss: 2460.6633 - mae: 2460.6633\n",
            "Epoch 143/200\n",
            "34/34 [==============================] - 0s 3ms/step - loss: 2479.2451 - mae: 2479.2451\n",
            "Epoch 144/200\n",
            "34/34 [==============================] - 0s 3ms/step - loss: 2446.8755 - mae: 2446.8755\n",
            "Epoch 145/200\n",
            "34/34 [==============================] - 0s 3ms/step - loss: 2445.9543 - mae: 2445.9543\n",
            "Epoch 146/200\n",
            "34/34 [==============================] - 0s 3ms/step - loss: 2456.3777 - mae: 2456.3777\n",
            "Epoch 147/200\n",
            "34/34 [==============================] - 0s 3ms/step - loss: 2439.6316 - mae: 2439.6316\n",
            "Epoch 148/200\n",
            "34/34 [==============================] - 0s 3ms/step - loss: 2427.6855 - mae: 2427.6855\n",
            "Epoch 149/200\n",
            "34/34 [==============================] - 0s 3ms/step - loss: 2419.1709 - mae: 2419.1709\n",
            "Epoch 150/200\n",
            "34/34 [==============================] - 0s 3ms/step - loss: 2416.1079 - mae: 2416.1079\n",
            "Epoch 151/200\n",
            "34/34 [==============================] - 0s 3ms/step - loss: 2414.6169 - mae: 2414.6169\n",
            "Epoch 152/200\n",
            "34/34 [==============================] - 0s 3ms/step - loss: 2406.5481 - mae: 2406.5481\n",
            "Epoch 153/200\n",
            "34/34 [==============================] - 0s 3ms/step - loss: 2409.9917 - mae: 2409.9917\n",
            "Epoch 154/200\n",
            "34/34 [==============================] - 0s 3ms/step - loss: 2408.4172 - mae: 2408.4172\n",
            "Epoch 155/200\n",
            "34/34 [==============================] - 0s 3ms/step - loss: 2390.2751 - mae: 2390.2751\n",
            "Epoch 156/200\n",
            "34/34 [==============================] - 0s 3ms/step - loss: 2385.7812 - mae: 2385.7812\n",
            "Epoch 157/200\n",
            "34/34 [==============================] - 0s 3ms/step - loss: 2375.3689 - mae: 2375.3689\n",
            "Epoch 158/200\n",
            "34/34 [==============================] - 0s 3ms/step - loss: 2373.2798 - mae: 2373.2798\n",
            "Epoch 159/200\n",
            "34/34 [==============================] - 0s 3ms/step - loss: 2369.9082 - mae: 2369.9082\n",
            "Epoch 160/200\n",
            "34/34 [==============================] - 0s 3ms/step - loss: 2369.5271 - mae: 2369.5271\n",
            "Epoch 161/200\n",
            "34/34 [==============================] - 0s 3ms/step - loss: 2357.7639 - mae: 2357.7639\n",
            "Epoch 162/200\n",
            "34/34 [==============================] - 0s 3ms/step - loss: 2361.6553 - mae: 2361.6553\n",
            "Epoch 163/200\n",
            "34/34 [==============================] - 0s 3ms/step - loss: 2349.2695 - mae: 2349.2695\n",
            "Epoch 164/200\n",
            "34/34 [==============================] - 0s 3ms/step - loss: 2346.6143 - mae: 2346.6143\n",
            "Epoch 165/200\n",
            "34/34 [==============================] - 0s 3ms/step - loss: 2340.7146 - mae: 2340.7146\n",
            "Epoch 166/200\n",
            "34/34 [==============================] - 0s 3ms/step - loss: 2348.7695 - mae: 2348.7695\n",
            "Epoch 167/200\n",
            "34/34 [==============================] - 0s 3ms/step - loss: 2334.0496 - mae: 2334.0496\n",
            "Epoch 168/200\n",
            "34/34 [==============================] - 0s 3ms/step - loss: 2327.7026 - mae: 2327.7026\n",
            "Epoch 169/200\n",
            "34/34 [==============================] - 0s 3ms/step - loss: 2323.2642 - mae: 2323.2642\n",
            "Epoch 170/200\n",
            "34/34 [==============================] - 0s 3ms/step - loss: 2314.8276 - mae: 2314.8276\n",
            "Epoch 171/200\n",
            "34/34 [==============================] - 0s 3ms/step - loss: 2310.1853 - mae: 2310.1853\n",
            "Epoch 172/200\n",
            "34/34 [==============================] - 0s 3ms/step - loss: 2311.8037 - mae: 2311.8037\n",
            "Epoch 173/200\n",
            "34/34 [==============================] - 0s 3ms/step - loss: 2314.9551 - mae: 2314.9551\n",
            "Epoch 174/200\n",
            "34/34 [==============================] - 0s 3ms/step - loss: 2312.3879 - mae: 2312.3879\n",
            "Epoch 175/200\n",
            "34/34 [==============================] - 0s 3ms/step - loss: 2294.3203 - mae: 2294.3203\n",
            "Epoch 176/200\n",
            "34/34 [==============================] - 0s 3ms/step - loss: 2291.5842 - mae: 2291.5842\n",
            "Epoch 177/200\n",
            "34/34 [==============================] - 0s 3ms/step - loss: 2294.6787 - mae: 2294.6787\n",
            "Epoch 178/200\n",
            "34/34 [==============================] - 0s 3ms/step - loss: 2290.3494 - mae: 2290.3494\n",
            "Epoch 179/200\n",
            "34/34 [==============================] - 0s 3ms/step - loss: 2289.8430 - mae: 2289.8430\n",
            "Epoch 180/200\n",
            "34/34 [==============================] - 0s 3ms/step - loss: 2277.5417 - mae: 2277.5417\n",
            "Epoch 181/200\n",
            "34/34 [==============================] - 0s 3ms/step - loss: 2280.0601 - mae: 2280.0601\n",
            "Epoch 182/200\n",
            "34/34 [==============================] - 0s 3ms/step - loss: 2290.2603 - mae: 2290.2603\n",
            "Epoch 183/200\n",
            "34/34 [==============================] - 0s 3ms/step - loss: 2277.0308 - mae: 2277.0308\n",
            "Epoch 184/200\n",
            "34/34 [==============================] - 0s 3ms/step - loss: 2267.2778 - mae: 2267.2778\n",
            "Epoch 185/200\n",
            "34/34 [==============================] - 0s 3ms/step - loss: 2252.6423 - mae: 2252.6423\n",
            "Epoch 186/200\n",
            "34/34 [==============================] - 0s 3ms/step - loss: 2253.8428 - mae: 2253.8428\n",
            "Epoch 187/200\n",
            "34/34 [==============================] - 0s 3ms/step - loss: 2256.3369 - mae: 2256.3369\n",
            "Epoch 188/200\n",
            "34/34 [==============================] - 0s 3ms/step - loss: 2259.5112 - mae: 2259.5112\n",
            "Epoch 189/200\n",
            "34/34 [==============================] - 0s 3ms/step - loss: 2274.4775 - mae: 2274.4775\n",
            "Epoch 190/200\n",
            "34/34 [==============================] - 0s 3ms/step - loss: 2245.1748 - mae: 2245.1748\n",
            "Epoch 191/200\n",
            "34/34 [==============================] - 0s 3ms/step - loss: 2248.5344 - mae: 2248.5344\n",
            "Epoch 192/200\n",
            "34/34 [==============================] - 0s 3ms/step - loss: 2233.9004 - mae: 2233.9004\n",
            "Epoch 193/200\n",
            "34/34 [==============================] - 0s 3ms/step - loss: 2249.3245 - mae: 2249.3245\n",
            "Epoch 194/200\n",
            "34/34 [==============================] - 0s 3ms/step - loss: 2216.0066 - mae: 2216.0066\n",
            "Epoch 195/200\n",
            "34/34 [==============================] - 0s 3ms/step - loss: 2222.8613 - mae: 2222.8613\n",
            "Epoch 196/200\n",
            "34/34 [==============================] - 0s 3ms/step - loss: 2212.9807 - mae: 2212.9807\n",
            "Epoch 197/200\n",
            "34/34 [==============================] - 0s 3ms/step - loss: 2235.7698 - mae: 2235.7698\n",
            "Epoch 198/200\n",
            "34/34 [==============================] - 0s 3ms/step - loss: 2229.2300 - mae: 2229.2300\n",
            "Epoch 199/200\n",
            "34/34 [==============================] - 0s 3ms/step - loss: 2229.1296 - mae: 2229.1296\n",
            "Epoch 200/200\n",
            "34/34 [==============================] - 0s 3ms/step - loss: 2199.2222 - mae: 2199.2222\n"
          ]
        }
      ]
    },
    {
      "cell_type": "code",
      "source": [
        "# Check the result on test data\n",
        "insurance_model.evaluate(x_test, y_test)"
      ],
      "metadata": {
        "colab": {
          "base_uri": "https://localhost:8080/"
        },
        "id": "R6S_iluKCDqE",
        "outputId": "5ceaca54-4381-4dda-c14d-d16255860ab6"
      },
      "execution_count": null,
      "outputs": [
        {
          "output_type": "stream",
          "name": "stdout",
          "text": [
            "9/9 [==============================] - 0s 3ms/step - loss: 1995.0039 - mae: 1995.0039\n"
          ]
        },
        {
          "output_type": "execute_result",
          "data": {
            "text/plain": [
              "[1995.00390625, 1995.00390625]"
            ]
          },
          "metadata": {},
          "execution_count": 79
        }
      ]
    },
    {
      "cell_type": "code",
      "source": [
        "# Plot history\n",
        "pd.DataFrame(history.history).plot()\n",
        "plt.ylabel(\"loss\")\n",
        "plt.xlabel(\"epochs\")"
      ],
      "metadata": {
        "colab": {
          "base_uri": "https://localhost:8080/",
          "height": 296
        },
        "id": "bcLqWN1WFSVU",
        "outputId": "afce8805-f736-4832-a43d-426b5dc478e4"
      },
      "execution_count": null,
      "outputs": [
        {
          "output_type": "execute_result",
          "data": {
            "text/plain": [
              "Text(0.5, 0, 'epochs')"
            ]
          },
          "metadata": {},
          "execution_count": 80
        },
        {
          "output_type": "display_data",
          "data": {
            "text/plain": [
              "<Figure size 432x288 with 1 Axes>"
            ],
            "image/png": "[encoded data removed]"
          },
          "metadata": {
            "needs_background": "light"
          }
        }
      ]
    },
    {
      "cell_type": "markdown",
      "source": [
        "### Preprocessing data (normalization and standardization)"
      ],
      "metadata": {
        "id": "UrZ4Uh-RK0Ws"
      }
    },
    {
      "cell_type": "code",
      "source": [
        "import pandas as pd\n",
        "import matplotlib.pyplot as plt\n",
        "import tensorflow as tf\n",
        "\n",
        "insurance = pd.read_csv(\"https://raw.githubusercontent.com/stedy/Machine-Learning-with-R-datasets/master/insurance.csv\")"
      ],
      "metadata": {
        "id": "9y8F_iLdKvTE"
      },
      "execution_count": null,
      "outputs": []
    },
    {
      "cell_type": "code",
      "source": [
        "from sklearn.compose import make_column_transformer\n",
        "from sklearn.preprocessing import MinMaxScaler, OneHotEncoder\n",
        "from sklearn.model_selection import train_test_split\n",
        "\n",
        "\n",
        "# Create a column transformer\n",
        "ct = make_column_transformer(\n",
        "    (MinMaxScaler(), [\"age\", \"bmi\", \"children\"]),\n",
        "    (OneHotEncoder(handle_unknown=\"ignore\"), [\"sex\",\"smoker\",\"region\"])\n",
        ")\n",
        "\n",
        "# Create x & y\n",
        "x = insurance.drop(\"charges\", axis=1)\n",
        "y = insurance[\"charges\"]\n",
        "\n",
        "x_train, x_test, y_train, y_test = train_test_split(x, y,test_size=0.2, random_state=42)\n",
        "\n",
        "## Fit the column transformer\n",
        "ct.fit(x_train)\n",
        "\n",
        "# Transform training and test data with normalization\n",
        "x_train_normal = ct.transform(x_train)\n",
        "x_test_normal = ct.transform(x_test)\n",
        "\n"
      ],
      "metadata": {
        "id": "Um8LvQ2zMaiI"
      },
      "execution_count": null,
      "outputs": []
    },
    {
      "cell_type": "code",
      "source": [
        "## Build a neural network \n",
        "tf.random.set_seed(42)\n",
        "\n",
        "# Create a model \n",
        "insurance_model = tf.keras.Sequential([\n",
        "    tf.keras.layers.Dense(100, activation=\"relu\"),\n",
        "    tf.keras.layers.Dense(100, activation=\"relu\"),\n",
        "    tf.keras.layers.Dense(10, activation=\"relu\"),\n",
        "    tf.keras.layers.Dense(1)\n",
        "])\n",
        "\n",
        "# Compile\n",
        "insurance_model.compile(loss=tf.keras.losses.mae,\n",
        "                        optimizer=tf.keras.optimizers.Adam(lr=0.005),\n",
        "                        metrics=[\"mae\"])\n",
        "\n",
        "history = insurance_model.fit(x_train_normal, y_train, epochs=100, verbose=1)"
      ],
      "metadata": {
        "colab": {
          "base_uri": "https://localhost:8080/"
        },
        "id": "LBfqC0LuPMd9",
        "outputId": "15c14720-16f3-4777-e85b-dd1ae5f0ccf3"
      },
      "execution_count": null,
      "outputs": [
        {
          "output_type": "stream",
          "name": "stdout",
          "text": [
            "Epoch 1/100\n",
            "34/34 [==============================] - 0s 3ms/step - loss: 13308.8486 - mae: 13308.8486\n",
            "Epoch 2/100\n",
            "34/34 [==============================] - 0s 3ms/step - loss: 11822.9893 - mae: 11822.9893\n",
            "Epoch 3/100\n",
            "34/34 [==============================] - 0s 3ms/step - loss: 7963.9058 - mae: 7963.9058\n",
            "Epoch 4/100\n",
            "34/34 [==============================] - 0s 3ms/step - loss: 7368.5122 - mae: 7368.5122\n",
            "Epoch 5/100\n",
            "34/34 [==============================] - 0s 3ms/step - loss: 6680.9980 - mae: 6680.9980\n",
            "Epoch 6/100\n",
            "34/34 [==============================] - 0s 3ms/step - loss: 5488.6938 - mae: 5488.6938\n",
            "Epoch 7/100\n",
            "34/34 [==============================] - 0s 3ms/step - loss: 4050.2915 - mae: 4050.2915\n",
            "Epoch 8/100\n",
            "34/34 [==============================] - 0s 3ms/step - loss: 3554.0195 - mae: 3554.0195\n",
            "Epoch 9/100\n",
            "34/34 [==============================] - 0s 3ms/step - loss: 3434.4849 - mae: 3434.4849\n",
            "Epoch 10/100\n",
            "34/34 [==============================] - 0s 3ms/step - loss: 3335.0803 - mae: 3335.0803\n",
            "Epoch 11/100\n",
            "34/34 [==============================] - 0s 3ms/step - loss: 3282.2346 - mae: 3282.2346\n",
            "Epoch 12/100\n",
            "34/34 [==============================] - 0s 3ms/step - loss: 3235.9038 - mae: 3235.9038\n",
            "Epoch 13/100\n",
            "34/34 [==============================] - 0s 3ms/step - loss: 3222.7048 - mae: 3222.7048\n",
            "Epoch 14/100\n",
            "34/34 [==============================] - 0s 3ms/step - loss: 3221.3562 - mae: 3221.3562\n",
            "Epoch 15/100\n",
            "34/34 [==============================] - 0s 3ms/step - loss: 3220.0322 - mae: 3220.0322\n",
            "Epoch 16/100\n",
            "34/34 [==============================] - 0s 3ms/step - loss: 3218.8286 - mae: 3218.8286\n",
            "Epoch 17/100\n",
            "34/34 [==============================] - 0s 3ms/step - loss: 3207.4692 - mae: 3207.4692\n",
            "Epoch 18/100\n",
            "34/34 [==============================] - 0s 3ms/step - loss: 3203.0161 - mae: 3203.0161\n",
            "Epoch 19/100\n",
            "34/34 [==============================] - 0s 3ms/step - loss: 3195.3428 - mae: 3195.3428\n",
            "Epoch 20/100\n",
            "34/34 [==============================] - 0s 3ms/step - loss: 3208.7095 - mae: 3208.7095\n",
            "Epoch 21/100\n",
            "34/34 [==============================] - 0s 3ms/step - loss: 3199.0969 - mae: 3199.0969\n",
            "Epoch 22/100\n",
            "34/34 [==============================] - 0s 3ms/step - loss: 3193.4045 - mae: 3193.4045\n",
            "Epoch 23/100\n",
            "34/34 [==============================] - 0s 3ms/step - loss: 3177.4822 - mae: 3177.4822\n",
            "Epoch 24/100\n",
            "34/34 [==============================] - 0s 3ms/step - loss: 3169.0701 - mae: 3169.0701\n",
            "Epoch 25/100\n",
            "34/34 [==============================] - 0s 3ms/step - loss: 3165.9885 - mae: 3165.9885\n",
            "Epoch 26/100\n",
            "34/34 [==============================] - 0s 3ms/step - loss: 3152.1755 - mae: 3152.1755\n",
            "Epoch 27/100\n",
            "34/34 [==============================] - 0s 3ms/step - loss: 3148.3669 - mae: 3148.3669\n",
            "Epoch 28/100\n",
            "34/34 [==============================] - 0s 3ms/step - loss: 3133.1638 - mae: 3133.1638\n",
            "Epoch 29/100\n",
            "34/34 [==============================] - 0s 3ms/step - loss: 3140.7249 - mae: 3140.7249\n",
            "Epoch 30/100\n",
            "34/34 [==============================] - 0s 3ms/step - loss: 3123.2253 - mae: 3123.2253\n",
            "Epoch 31/100\n",
            "34/34 [==============================] - 0s 3ms/step - loss: 3104.7700 - mae: 3104.7700\n",
            "Epoch 32/100\n",
            "34/34 [==============================] - 0s 3ms/step - loss: 3101.0984 - mae: 3101.0984\n",
            "Epoch 33/100\n",
            "34/34 [==============================] - 0s 3ms/step - loss: 3101.4485 - mae: 3101.4485\n",
            "Epoch 34/100\n",
            "34/34 [==============================] - 0s 3ms/step - loss: 3087.3674 - mae: 3087.3674\n",
            "Epoch 35/100\n",
            "34/34 [==============================] - 0s 3ms/step - loss: 3050.0149 - mae: 3050.0149\n",
            "Epoch 36/100\n",
            "34/34 [==============================] - 0s 3ms/step - loss: 3029.5854 - mae: 3029.5854\n",
            "Epoch 37/100\n",
            "34/34 [==============================] - 0s 3ms/step - loss: 3025.9429 - mae: 3025.9429\n",
            "Epoch 38/100\n",
            "34/34 [==============================] - 0s 3ms/step - loss: 3002.8096 - mae: 3002.8096\n",
            "Epoch 39/100\n",
            "34/34 [==============================] - 0s 3ms/step - loss: 3002.6619 - mae: 3002.6619\n",
            "Epoch 40/100\n",
            "34/34 [==============================] - 0s 3ms/step - loss: 2971.8777 - mae: 2971.8777\n",
            "Epoch 41/100\n",
            "34/34 [==============================] - 0s 3ms/step - loss: 2955.2441 - mae: 2955.2441\n",
            "Epoch 42/100\n",
            "34/34 [==============================] - 0s 3ms/step - loss: 2932.1042 - mae: 2932.1042\n",
            "Epoch 43/100\n",
            "34/34 [==============================] - 0s 3ms/step - loss: 2943.7012 - mae: 2943.7012\n",
            "Epoch 44/100\n",
            "34/34 [==============================] - 0s 3ms/step - loss: 2878.3225 - mae: 2878.3225\n",
            "Epoch 45/100\n",
            "34/34 [==============================] - 0s 3ms/step - loss: 2859.5491 - mae: 2859.5491\n",
            "Epoch 46/100\n",
            "34/34 [==============================] - 0s 3ms/step - loss: 2851.4717 - mae: 2851.4717\n",
            "Epoch 47/100\n",
            "34/34 [==============================] - 0s 3ms/step - loss: 2829.7861 - mae: 2829.7861\n",
            "Epoch 48/100\n",
            "34/34 [==============================] - 0s 3ms/step - loss: 2804.9915 - mae: 2804.9915\n",
            "Epoch 49/100\n",
            "34/34 [==============================] - 0s 3ms/step - loss: 2770.9224 - mae: 2770.9224\n",
            "Epoch 50/100\n",
            "34/34 [==============================] - 0s 3ms/step - loss: 2735.4058 - mae: 2735.4058\n",
            "Epoch 51/100\n",
            "34/34 [==============================] - 0s 3ms/step - loss: 2716.9966 - mae: 2716.9966\n",
            "Epoch 52/100\n",
            "34/34 [==============================] - 0s 3ms/step - loss: 2682.4436 - mae: 2682.4436\n",
            "Epoch 53/100\n",
            "34/34 [==============================] - 0s 3ms/step - loss: 2649.8196 - mae: 2649.8196\n",
            "Epoch 54/100\n",
            "34/34 [==============================] - 0s 3ms/step - loss: 2657.9639 - mae: 2657.9639\n",
            "Epoch 55/100\n",
            "34/34 [==============================] - 0s 3ms/step - loss: 2644.9001 - mae: 2644.9001\n",
            "Epoch 56/100\n",
            "34/34 [==============================] - 0s 3ms/step - loss: 2586.0754 - mae: 2586.0754\n",
            "Epoch 57/100\n",
            "34/34 [==============================] - 0s 3ms/step - loss: 2559.7554 - mae: 2559.7554\n",
            "Epoch 58/100\n",
            "34/34 [==============================] - 0s 3ms/step - loss: 2525.3445 - mae: 2525.3445\n",
            "Epoch 59/100\n",
            "34/34 [==============================] - 0s 3ms/step - loss: 2484.5085 - mae: 2484.5085\n",
            "Epoch 60/100\n",
            "34/34 [==============================] - 0s 3ms/step - loss: 2448.6094 - mae: 2448.6094\n",
            "Epoch 61/100\n",
            "34/34 [==============================] - 0s 3ms/step - loss: 2416.9839 - mae: 2416.9839\n",
            "Epoch 62/100\n",
            "34/34 [==============================] - 0s 3ms/step - loss: 2396.4351 - mae: 2396.4351\n",
            "Epoch 63/100\n",
            "34/34 [==============================] - 0s 3ms/step - loss: 2367.0061 - mae: 2367.0061\n",
            "Epoch 64/100\n",
            "34/34 [==============================] - 0s 3ms/step - loss: 2345.9453 - mae: 2345.9453\n",
            "Epoch 65/100\n",
            "34/34 [==============================] - 0s 3ms/step - loss: 2316.2244 - mae: 2316.2244\n",
            "Epoch 66/100\n",
            "34/34 [==============================] - 0s 3ms/step - loss: 2318.1204 - mae: 2318.1204\n",
            "Epoch 67/100\n",
            "34/34 [==============================] - 0s 3ms/step - loss: 2289.1587 - mae: 2289.1587\n",
            "Epoch 68/100\n",
            "34/34 [==============================] - 0s 3ms/step - loss: 2284.6108 - mae: 2284.6108\n",
            "Epoch 69/100\n",
            "34/34 [==============================] - 0s 3ms/step - loss: 2254.3572 - mae: 2254.3572\n",
            "Epoch 70/100\n",
            "34/34 [==============================] - 0s 3ms/step - loss: 2237.6262 - mae: 2237.6262\n",
            "Epoch 71/100\n",
            "34/34 [==============================] - 0s 3ms/step - loss: 2216.6946 - mae: 2216.6946\n",
            "Epoch 72/100\n",
            "34/34 [==============================] - 0s 3ms/step - loss: 2225.5518 - mae: 2225.5518\n",
            "Epoch 73/100\n",
            "34/34 [==============================] - 0s 3ms/step - loss: 2189.1223 - mae: 2189.1223\n",
            "Epoch 74/100\n",
            "34/34 [==============================] - 0s 3ms/step - loss: 2157.4712 - mae: 2157.4712\n",
            "Epoch 75/100\n",
            "34/34 [==============================] - 0s 3ms/step - loss: 2136.9858 - mae: 2136.9858\n",
            "Epoch 76/100\n",
            "34/34 [==============================] - 0s 3ms/step - loss: 2135.9138 - mae: 2135.9138\n",
            "Epoch 77/100\n",
            "34/34 [==============================] - 0s 3ms/step - loss: 2124.0713 - mae: 2124.0713\n",
            "Epoch 78/100\n",
            "34/34 [==============================] - 0s 3ms/step - loss: 2107.4771 - mae: 2107.4771\n",
            "Epoch 79/100\n",
            "34/34 [==============================] - 0s 3ms/step - loss: 2110.5105 - mae: 2110.5105\n",
            "Epoch 80/100\n",
            "34/34 [==============================] - 0s 3ms/step - loss: 2107.2300 - mae: 2107.2300\n",
            "Epoch 81/100\n",
            "34/34 [==============================] - 0s 3ms/step - loss: 2093.6421 - mae: 2093.6421\n",
            "Epoch 82/100\n",
            "34/34 [==============================] - 0s 3ms/step - loss: 2058.9766 - mae: 2058.9766\n",
            "Epoch 83/100\n",
            "34/34 [==============================] - 0s 3ms/step - loss: 2049.3049 - mae: 2049.3049\n",
            "Epoch 84/100\n",
            "34/34 [==============================] - 0s 3ms/step - loss: 2035.5790 - mae: 2035.5790\n",
            "Epoch 85/100\n",
            "34/34 [==============================] - 0s 3ms/step - loss: 2056.8748 - mae: 2056.8748\n",
            "Epoch 86/100\n",
            "34/34 [==============================] - 0s 3ms/step - loss: 2049.5200 - mae: 2049.5200\n",
            "Epoch 87/100\n",
            "34/34 [==============================] - 0s 3ms/step - loss: 2046.4414 - mae: 2046.4414\n",
            "Epoch 88/100\n",
            "34/34 [==============================] - 0s 3ms/step - loss: 2016.9117 - mae: 2016.9117\n",
            "Epoch 89/100\n",
            "34/34 [==============================] - 0s 3ms/step - loss: 2040.3295 - mae: 2040.3295\n",
            "Epoch 90/100\n",
            "34/34 [==============================] - 0s 3ms/step - loss: 2024.6465 - mae: 2024.6465\n",
            "Epoch 91/100\n",
            "34/34 [==============================] - 0s 3ms/step - loss: 2030.9189 - mae: 2030.9189\n",
            "Epoch 92/100\n",
            "34/34 [==============================] - 0s 3ms/step - loss: 2015.6953 - mae: 2015.6953\n",
            "Epoch 93/100\n",
            "34/34 [==============================] - 0s 3ms/step - loss: 2037.2666 - mae: 2037.2666\n",
            "Epoch 94/100\n",
            "34/34 [==============================] - 0s 3ms/step - loss: 2022.6373 - mae: 2022.6373\n",
            "Epoch 95/100\n",
            "34/34 [==============================] - 0s 3ms/step - loss: 2014.2584 - mae: 2014.2584\n",
            "Epoch 96/100\n",
            "34/34 [==============================] - 0s 3ms/step - loss: 2022.4839 - mae: 2022.4839\n",
            "Epoch 97/100\n",
            "34/34 [==============================] - 0s 3ms/step - loss: 2035.4745 - mae: 2035.4745\n",
            "Epoch 98/100\n",
            "34/34 [==============================] - 0s 3ms/step - loss: 2029.3658 - mae: 2029.3658\n",
            "Epoch 99/100\n",
            "34/34 [==============================] - 0s 3ms/step - loss: 2003.2061 - mae: 2003.2061\n",
            "Epoch 100/100\n",
            "34/34 [==============================] - 0s 3ms/step - loss: 1994.8136 - mae: 1994.8136\n"
          ]
        }
      ]
    },
    {
      "cell_type": "code",
      "source": [
        "# Plot history\n",
        "pd.DataFrame(history.history).plot()\n",
        "plt.ylabel(\"loss\")\n",
        "plt.xlabel(\"epochs\")"
      ],
      "metadata": {
        "colab": {
          "base_uri": "https://localhost:8080/",
          "height": 296
        },
        "id": "VNUJm2G0PpkX",
        "outputId": "b48de2d0-acb0-492e-d46e-d12dff9762dd"
      },
      "execution_count": null,
      "outputs": [
        {
          "output_type": "execute_result",
          "data": {
            "text/plain": [
              "Text(0.5, 0, 'epochs')"
            ]
          },
          "metadata": {},
          "execution_count": 107
        },
        {
          "output_type": "display_data",
          "data": {
            "text/plain": [
              "<Figure size 432x288 with 1 Axes>"
            ],
            "image/png": "[encoded data removed]"
          },
          "metadata": {
            "needs_background": "light"
          }
        }
      ]
    }
  ]
}